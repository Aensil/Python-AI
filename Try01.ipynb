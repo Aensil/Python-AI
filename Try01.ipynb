{
  "nbformat": 4,
  "nbformat_minor": 0,
  "metadata": {
    "colab": {
      "provenance": []
    },
    "kernelspec": {
      "name": "python3",
      "display_name": "Python 3"
    },
    "language_info": {
      "name": "python"
    }
  },
  "cells": [
    {
      "cell_type": "code",
      "execution_count": 2,
      "metadata": {
        "colab": {
          "base_uri": "https://localhost:8080/",
          "height": 206
        },
        "id": "e3hU-Ry-MWwE",
        "outputId": "c6c45182-2fa2-44bc-afb1-34a2248f9178"
      },
      "outputs": [
        {
          "output_type": "execute_result",
          "data": {
            "text/plain": [
              "                        name mfr type  calories  protein  fat  sodium  fiber  \\\n",
              "0                  100% Bran   N    C        70        4    1     130   10.0   \n",
              "1          100% Natural Bran   Q    C       120        3    5      15    2.0   \n",
              "2                   All-Bran   K    C        70        4    1     260    9.0   \n",
              "3  All-Bran with Extra Fiber   K    C        50        4    0     140   14.0   \n",
              "4             Almond Delight   R    C       110        2    2     200    1.0   \n",
              "\n",
              "   carbo  sugars  potass  vitamins  shelf  weight  cups     rating  \n",
              "0    5.0       6     280        25      3     1.0  0.33  68.402973  \n",
              "1    8.0       8     135         0      3     1.0  1.00  33.983679  \n",
              "2    7.0       5     320        25      3     1.0  0.33  59.425505  \n",
              "3    8.0       0     330        25      3     1.0  0.50  93.704912  \n",
              "4   14.0       8      -1        25      3     1.0  0.75  34.384843  "
            ],
            "text/html": [
              "\n",
              "  <div id=\"df-b30eb86b-26e8-4251-acae-d8f26600649e\">\n",
              "    <div class=\"colab-df-container\">\n",
              "      <div>\n",
              "<style scoped>\n",
              "    .dataframe tbody tr th:only-of-type {\n",
              "        vertical-align: middle;\n",
              "    }\n",
              "\n",
              "    .dataframe tbody tr th {\n",
              "        vertical-align: top;\n",
              "    }\n",
              "\n",
              "    .dataframe thead th {\n",
              "        text-align: right;\n",
              "    }\n",
              "</style>\n",
              "<table border=\"1\" class=\"dataframe\">\n",
              "  <thead>\n",
              "    <tr style=\"text-align: right;\">\n",
              "      <th></th>\n",
              "      <th>name</th>\n",
              "      <th>mfr</th>\n",
              "      <th>type</th>\n",
              "      <th>calories</th>\n",
              "      <th>protein</th>\n",
              "      <th>fat</th>\n",
              "      <th>sodium</th>\n",
              "      <th>fiber</th>\n",
              "      <th>carbo</th>\n",
              "      <th>sugars</th>\n",
              "      <th>potass</th>\n",
              "      <th>vitamins</th>\n",
              "      <th>shelf</th>\n",
              "      <th>weight</th>\n",
              "      <th>cups</th>\n",
              "      <th>rating</th>\n",
              "    </tr>\n",
              "  </thead>\n",
              "  <tbody>\n",
              "    <tr>\n",
              "      <th>0</th>\n",
              "      <td>100% Bran</td>\n",
              "      <td>N</td>\n",
              "      <td>C</td>\n",
              "      <td>70</td>\n",
              "      <td>4</td>\n",
              "      <td>1</td>\n",
              "      <td>130</td>\n",
              "      <td>10.0</td>\n",
              "      <td>5.0</td>\n",
              "      <td>6</td>\n",
              "      <td>280</td>\n",
              "      <td>25</td>\n",
              "      <td>3</td>\n",
              "      <td>1.0</td>\n",
              "      <td>0.33</td>\n",
              "      <td>68.402973</td>\n",
              "    </tr>\n",
              "    <tr>\n",
              "      <th>1</th>\n",
              "      <td>100% Natural Bran</td>\n",
              "      <td>Q</td>\n",
              "      <td>C</td>\n",
              "      <td>120</td>\n",
              "      <td>3</td>\n",
              "      <td>5</td>\n",
              "      <td>15</td>\n",
              "      <td>2.0</td>\n",
              "      <td>8.0</td>\n",
              "      <td>8</td>\n",
              "      <td>135</td>\n",
              "      <td>0</td>\n",
              "      <td>3</td>\n",
              "      <td>1.0</td>\n",
              "      <td>1.00</td>\n",
              "      <td>33.983679</td>\n",
              "    </tr>\n",
              "    <tr>\n",
              "      <th>2</th>\n",
              "      <td>All-Bran</td>\n",
              "      <td>K</td>\n",
              "      <td>C</td>\n",
              "      <td>70</td>\n",
              "      <td>4</td>\n",
              "      <td>1</td>\n",
              "      <td>260</td>\n",
              "      <td>9.0</td>\n",
              "      <td>7.0</td>\n",
              "      <td>5</td>\n",
              "      <td>320</td>\n",
              "      <td>25</td>\n",
              "      <td>3</td>\n",
              "      <td>1.0</td>\n",
              "      <td>0.33</td>\n",
              "      <td>59.425505</td>\n",
              "    </tr>\n",
              "    <tr>\n",
              "      <th>3</th>\n",
              "      <td>All-Bran with Extra Fiber</td>\n",
              "      <td>K</td>\n",
              "      <td>C</td>\n",
              "      <td>50</td>\n",
              "      <td>4</td>\n",
              "      <td>0</td>\n",
              "      <td>140</td>\n",
              "      <td>14.0</td>\n",
              "      <td>8.0</td>\n",
              "      <td>0</td>\n",
              "      <td>330</td>\n",
              "      <td>25</td>\n",
              "      <td>3</td>\n",
              "      <td>1.0</td>\n",
              "      <td>0.50</td>\n",
              "      <td>93.704912</td>\n",
              "    </tr>\n",
              "    <tr>\n",
              "      <th>4</th>\n",
              "      <td>Almond Delight</td>\n",
              "      <td>R</td>\n",
              "      <td>C</td>\n",
              "      <td>110</td>\n",
              "      <td>2</td>\n",
              "      <td>2</td>\n",
              "      <td>200</td>\n",
              "      <td>1.0</td>\n",
              "      <td>14.0</td>\n",
              "      <td>8</td>\n",
              "      <td>-1</td>\n",
              "      <td>25</td>\n",
              "      <td>3</td>\n",
              "      <td>1.0</td>\n",
              "      <td>0.75</td>\n",
              "      <td>34.384843</td>\n",
              "    </tr>\n",
              "  </tbody>\n",
              "</table>\n",
              "</div>\n",
              "      <button class=\"colab-df-convert\" onclick=\"convertToInteractive('df-b30eb86b-26e8-4251-acae-d8f26600649e')\"\n",
              "              title=\"Convert this dataframe to an interactive table.\"\n",
              "              style=\"display:none;\">\n",
              "        \n",
              "  <svg xmlns=\"http://www.w3.org/2000/svg\" height=\"24px\"viewBox=\"0 0 24 24\"\n",
              "       width=\"24px\">\n",
              "    <path d=\"M0 0h24v24H0V0z\" fill=\"none\"/>\n",
              "    <path d=\"M18.56 5.44l.94 2.06.94-2.06 2.06-.94-2.06-.94-.94-2.06-.94 2.06-2.06.94zm-11 1L8.5 8.5l.94-2.06 2.06-.94-2.06-.94L8.5 2.5l-.94 2.06-2.06.94zm10 10l.94 2.06.94-2.06 2.06-.94-2.06-.94-.94-2.06-.94 2.06-2.06.94z\"/><path d=\"M17.41 7.96l-1.37-1.37c-.4-.4-.92-.59-1.43-.59-.52 0-1.04.2-1.43.59L10.3 9.45l-7.72 7.72c-.78.78-.78 2.05 0 2.83L4 21.41c.39.39.9.59 1.41.59.51 0 1.02-.2 1.41-.59l7.78-7.78 2.81-2.81c.8-.78.8-2.07 0-2.86zM5.41 20L4 18.59l7.72-7.72 1.47 1.35L5.41 20z\"/>\n",
              "  </svg>\n",
              "      </button>\n",
              "      \n",
              "  <style>\n",
              "    .colab-df-container {\n",
              "      display:flex;\n",
              "      flex-wrap:wrap;\n",
              "      gap: 12px;\n",
              "    }\n",
              "\n",
              "    .colab-df-convert {\n",
              "      background-color: #E8F0FE;\n",
              "      border: none;\n",
              "      border-radius: 50%;\n",
              "      cursor: pointer;\n",
              "      display: none;\n",
              "      fill: #1967D2;\n",
              "      height: 32px;\n",
              "      padding: 0 0 0 0;\n",
              "      width: 32px;\n",
              "    }\n",
              "\n",
              "    .colab-df-convert:hover {\n",
              "      background-color: #E2EBFA;\n",
              "      box-shadow: 0px 1px 2px rgba(60, 64, 67, 0.3), 0px 1px 3px 1px rgba(60, 64, 67, 0.15);\n",
              "      fill: #174EA6;\n",
              "    }\n",
              "\n",
              "    [theme=dark] .colab-df-convert {\n",
              "      background-color: #3B4455;\n",
              "      fill: #D2E3FC;\n",
              "    }\n",
              "\n",
              "    [theme=dark] .colab-df-convert:hover {\n",
              "      background-color: #434B5C;\n",
              "      box-shadow: 0px 1px 3px 1px rgba(0, 0, 0, 0.15);\n",
              "      filter: drop-shadow(0px 1px 2px rgba(0, 0, 0, 0.3));\n",
              "      fill: #FFFFFF;\n",
              "    }\n",
              "  </style>\n",
              "\n",
              "      <script>\n",
              "        const buttonEl =\n",
              "          document.querySelector('#df-b30eb86b-26e8-4251-acae-d8f26600649e button.colab-df-convert');\n",
              "        buttonEl.style.display =\n",
              "          google.colab.kernel.accessAllowed ? 'block' : 'none';\n",
              "\n",
              "        async function convertToInteractive(key) {\n",
              "          const element = document.querySelector('#df-b30eb86b-26e8-4251-acae-d8f26600649e');\n",
              "          const dataTable =\n",
              "            await google.colab.kernel.invokeFunction('convertToInteractive',\n",
              "                                                     [key], {});\n",
              "          if (!dataTable) return;\n",
              "\n",
              "          const docLinkHtml = 'Like what you see? Visit the ' +\n",
              "            '<a target=\"_blank\" href=https://colab.research.google.com/notebooks/data_table.ipynb>data table notebook</a>'\n",
              "            + ' to learn more about interactive tables.';\n",
              "          element.innerHTML = '';\n",
              "          dataTable['output_type'] = 'display_data';\n",
              "          await google.colab.output.renderOutput(dataTable, element);\n",
              "          const docLink = document.createElement('div');\n",
              "          docLink.innerHTML = docLinkHtml;\n",
              "          element.appendChild(docLink);\n",
              "        }\n",
              "      </script>\n",
              "    </div>\n",
              "  </div>\n",
              "  "
            ]
          },
          "metadata": {},
          "execution_count": 2
        }
      ],
      "source": [
        "#Abdel \n",
        "\n",
        "#system\n",
        "import os\n",
        "import sys\n",
        "\n",
        "#DataScience\n",
        "import pandas as pd    #pandas\n",
        "\n",
        "#analisis numerico\n",
        "import numpy as np\n",
        "\n",
        "#librerias graficas\n",
        "import matplotlib.pyplot as plt\n",
        "import seaborn as sns\n",
        "\n",
        "#M l  ----\"Machine Learning\"\n",
        "import tensorflow as tf\n",
        "import keras\n",
        "import sklearn\n",
        "from sklearn.model_selection import train_test_split\n",
        "\n",
        "#import el dataset\n",
        "url = \"https://drive.google.com/uc?export=download&id=1pr8KF5V5v6loxfXrXBIuU8f7G4UOtSoR\" #leer de internet\n",
        "df_Data = pd.read_csv(url, sep=',') #Leer archivo de url y separar por comas\n",
        "\n",
        "#reduccion manual del dataset\n",
        "#del df_Data['id']   #Borra columna ID\n",
        "\n",
        "df_Data.head()"
      ]
    },
    {
      "cell_type": "code",
      "source": [
        "#renombramiento de los features (columnas)\n",
        "f = {\"SepalLengthCm\":\"Sepalo_L\", \"Species\":\"Target\",  \"SepalWidthCm\":\"Sepalo_A\", \"PetalLengthCm\":\"Petalo_L\", \"PetalWidthCm\":\"Petalo_A\"}\n",
        "\n",
        "df_Data.rename(columns = f, inplace=True)             #renombramiento\n",
        "\n",
        "df_Data"
      ],
      "metadata": {
        "id": "r-ISMU1lcc9y"
      },
      "execution_count": null,
      "outputs": []
    },
    {
      "cell_type": "code",
      "source": [
        "Dato = df_Data[\"Target\"][4]\n",
        "Dato"
      ],
      "metadata": {
        "id": "JL2YmLdVez3o"
      },
      "execution_count": null,
      "outputs": []
    },
    {
      "cell_type": "code",
      "source": [
        "#Convertir a la celda en grafico\n",
        "%matplotlib inline\n",
        "\n",
        "#Graficar\n",
        "k = [\"Sepalo_L\",\"Sepalo_A\",\"Petalo_L\",\"Petalo_A\"]\n",
        "colores = [\"red\",\"purple\",\"black\",\"green\"]\n",
        "n=0\n",
        "while n != 4:\n",
        "  plt.plot(df_Data[k[n]], color=colores[n])\n",
        "  plt.ylabel(k[n])\n",
        "  plt.xlabel(\"Samples\")\n",
        "  plt.show()\n",
        "  n= n+1\n"
      ],
      "metadata": {
        "id": "1fnZjnyGfCL4"
      },
      "execution_count": null,
      "outputs": []
    },
    {
      "cell_type": "code",
      "source": [
        "%matplotlib inline\n",
        "\n",
        "sns.set()\n",
        "sns.pairplot(df_Data, hue=\"Target\")"
      ],
      "metadata": {
        "id": "mSE_YCWHh5yh"
      },
      "execution_count": null,
      "outputs": []
    },
    {
      "cell_type": "code",
      "source": [
        "#Splitting (\"Division de los datos\")\n",
        "# train_test_split (dataset, % del entrenamiento)\n",
        "dataset_train, dataset_test = train_test_split(df_Data, train_size=0.7, shuffle=True)\n",
        "\n",
        "#verificar el data set\n",
        "dataset_train\n",
        "\n",
        "#verificar el test\n",
        "dataset_test"
      ],
      "metadata": {
        "id": "di0inClePFhB"
      },
      "execution_count": null,
      "outputs": []
    },
    {
      "cell_type": "code",
      "source": [
        "#separacion del Target y los features\n",
        "#AHORA LOS features son X, el Target es Y\n",
        "dataset_train_X = dataset_train.drop(\"Target\", axis=\"columns\")\n",
        "dataset_train_Y = dataset_train[\"Target\"]\n",
        "dataset_test_X = dataset_test.drop(\"Target\", axis=\"columns\")\n",
        "dataset_test_Y = dataset_test[\"Target\"]\n",
        "\n",
        "dataset_test_Y"
      ],
      "metadata": {
        "id": "wLegiJIdTNhp"
      },
      "execution_count": null,
      "outputs": []
    },
    {
      "cell_type": "code",
      "source": [
        "#Algoritmo de clasificacion (Supervisado)\n",
        "\n",
        "#Naive Bayes Gausiano\n",
        "\n",
        "#importar el modelo a ser utilizado\n",
        "from sklearn.naive_bayes import GaussianNB  #Escoger el modelo de aprendizaje\n",
        "\n",
        "#Instanciar el modelo\n",
        "model = GaussianNB()\n",
        "\n",
        "#model.fit Toma features y target\n",
        "model.fit(dataset_train_X, dataset_train_Y)"
      ],
      "metadata": {
        "id": "2pNVO2T2VmQw"
      },
      "execution_count": null,
      "outputs": []
    },
    {
      "cell_type": "code",
      "source": [],
      "metadata": {
        "id": "-sVCOhWZaN27"
      },
      "execution_count": null,
      "outputs": []
    },
    {
      "cell_type": "code",
      "source": [
        "#Inferencia del modelo\n",
        "inferencia = model.predict(dataset_test_X) #Prediccion del modelo\n",
        "inferencia\n",
        "\n",
        "#Validacion Automatica\n",
        "from sklearn.metrics import accuracy_score\n",
        "#la funcion accuracy_score toma como argumento (Target_Validation, Inferencia)\n",
        "model_accuracy = accuracy_score(dataset_test_Y, inferencia)\n",
        "print(\"Exactitud: \", str(model_accuracy*100),\"%\")"
      ],
      "metadata": {
        "id": "89kxybwZX-Un"
      },
      "execution_count": null,
      "outputs": []
    },
    {
      "cell_type": "code",
      "source": [
        "#Crear un ejemplo inventado como data set de TESTING\n",
        "dataset_inventado = dataset_test_X\n",
        "dataset_inventado = dataset_inventado[1:2]\n",
        "dataset_inventado[\"Sepalo_L\"]= 4.3\n",
        "dataset_inventado[\"Sepalo_A\"]= 3.2\n",
        "dataset_inventado[\"Petalo_L\"]= 0.5\n",
        "dataset_inventado[\"Petalo_A\"]= 5.0\n",
        "dataset_inventado"
      ],
      "metadata": {
        "id": "AHPDGoOMdJCF"
      },
      "execution_count": null,
      "outputs": []
    },
    {
      "cell_type": "code",
      "source": [
        "#nueva inferencia dataset inventado\n",
        "inferencia_inventado = model.predict(dataset_inventado)\n",
        "print(inferencia_inventado)"
      ],
      "metadata": {
        "id": "ppIt7E2zfjNk"
      },
      "execution_count": null,
      "outputs": []
    },
    {
      "cell_type": "markdown",
      "source": [
        "**TAREA**"
      ],
      "metadata": {
        "id": "wkHVPm99fFAP"
      }
    },
    {
      "cell_type": "code",
      "source": [
        "#unsupervised learning\n",
        "#nuevo modelo usando Gaussian mixture models\n",
        "\n",
        "#Importar las librerias\n",
        "from sklearn.mixture import GaussianMixture\n",
        "\n",
        "#Creación del modelo---Instanciacion\n",
        "New_Model = GaussianMixture(n_components=3).fit(dataset_train_X)\n",
        "\n",
        "#Toma features and Target\n",
        "#New_Model.fit(dataset_train_X, dataset_train_Y)\n",
        "\n",
        "#Inferencia del modelo\n",
        "infe = New_Model.predict(dataset_test_X) #Prediccion del modelo\n"
      ],
      "metadata": {
        "id": "fsLUUa3rIqQC"
      },
      "execution_count": null,
      "outputs": []
    },
    {
      "cell_type": "code",
      "source": [
        "#Decodificación de los datos\n",
        "\n",
        "H = []\n",
        "\n",
        "for i in range(len(infe)):\n",
        "    if infe[i] == 0:\n",
        "      H.append('Iris-versicolor')\n",
        "    elif infe[i] == 1:\n",
        "      H.append('Iris-setosa')\n",
        "    elif infe[i] == 2:\n",
        "      H.append('Iris-virginica')\n",
        "    else:\n",
        "      pass\n",
        "\n",
        "J = []\n",
        "for index in dataset_test_Y.index:\n",
        "    if dataset_test_Y.loc[index] == 'Iris-versicolor':\n",
        "        J.append('Iris-versicolor')\n",
        "    elif dataset_test_Y.loc[index] == 'Iris-setosa':\n",
        "        J.append('Iris-setosa')\n",
        "    elif dataset_test_Y.loc[index] == 'Iris-virginica':\n",
        "        J.append('Iris-virginica')\n",
        "    else:\n",
        "        pass\n",
        "\n",
        "print(\"infe: \", infe)\n",
        "print(\"--------------------------------------\")\n",
        "print(\"H :\", H)\n",
        "print(\"J :\", J)\n",
        "print(\"--------------------------------------\")\n",
        "print(\"Dataset: \", dataset_test_Y)\n",
        "print(\"--------------------------------------\")\n",
        "\n",
        "#la funcion accuracy_score toma como argumento (Target_Validation, Inferencia)\n",
        "model_accuracy = accuracy_score(J, H)\n",
        "print(\"Exactitud: \", str(model_accuracy*100),\"%\")"
      ],
      "metadata": {
        "id": "6h6_z0CofCXR"
      },
      "execution_count": null,
      "outputs": []
    }
  ]
}