{
  "cells": [
    {
      "cell_type": "markdown",
      "metadata": {
        "id": "f1aee248"
      },
      "source": [
        "## Importando librerías"
      ],
      "id": "f1aee248"
    },
    {
      "cell_type": "code",
      "execution_count": null,
      "metadata": {
        "id": "96223f13"
      },
      "outputs": [],
      "source": [
        "#Mini Neural network\n",
        "#Abdel\n",
        "import tensorflow as tf\n",
        "from tensorflow.keras.datasets import fashion_mnist\n",
        "from tensorflow.keras.layers import Conv2D, Dropout, MaxPooling2D, Flatten, Dense\n",
        "# Helper libraries\n",
        "import numpy as np\n",
        "import matplotlib.pyplot as plt"
      ],
      "id": "96223f13"
    },
    {
      "cell_type": "markdown",
      "metadata": {
        "id": "272e3a3f"
      },
      "source": [
        "## Cargando dataset de Fashion MNIST"
      ],
      "id": "272e3a3f"
    },
    {
      "cell_type": "code",
      "execution_count": null,
      "metadata": {
        "colab": {
          "base_uri": "https://localhost:8080/"
        },
        "id": "1cce8d4d",
        "outputId": "a751e955-00dc-431c-b77e-320c9a633a06"
      },
      "outputs": [
        {
          "output_type": "stream",
          "name": "stdout",
          "text": [
            "Downloading data from https://storage.googleapis.com/tensorflow/tf-keras-datasets/train-labels-idx1-ubyte.gz\n",
            "29515/29515 [==============================] - 0s 0us/step\n",
            "Downloading data from https://storage.googleapis.com/tensorflow/tf-keras-datasets/train-images-idx3-ubyte.gz\n",
            "26421880/26421880 [==============================] - 1s 0us/step\n",
            "Downloading data from https://storage.googleapis.com/tensorflow/tf-keras-datasets/t10k-labels-idx1-ubyte.gz\n",
            "5148/5148 [==============================] - 0s 0us/step\n",
            "Downloading data from https://storage.googleapis.com/tensorflow/tf-keras-datasets/t10k-images-idx3-ubyte.gz\n",
            "4422102/4422102 [==============================] - 0s 0us/step\n"
          ]
        }
      ],
      "source": [
        "\n",
        "(train_images, train_labels), (test_images, test_labels) = fashion_mnist.load_data()\n"
      ],
      "id": "1cce8d4d"
    },
    {
      "cell_type": "code",
      "execution_count": null,
      "metadata": {
        "colab": {
          "base_uri": "https://localhost:8080/"
        },
        "id": "0f1fd366",
        "outputId": "241836aa-8b3b-43fe-9d42-bd2a1b2c0169"
      },
      "outputs": [
        {
          "output_type": "execute_result",
          "data": {
            "text/plain": [
              "(60000, 28, 28)"
            ]
          },
          "metadata": {},
          "execution_count": 4
        }
      ],
      "source": [
        "train_images.shape"
      ],
      "id": "0f1fd366"
    },
    {
      "cell_type": "code",
      "execution_count": null,
      "metadata": {
        "colab": {
          "base_uri": "https://localhost:8080/",
          "height": 283
        },
        "id": "fda20baf",
        "outputId": "91a59c48-859e-4480-d3f7-27c3612b7eaf"
      },
      "outputs": [
        {
          "output_type": "execute_result",
          "data": {
            "text/plain": [
              "<matplotlib.image.AxesImage at 0x7fe5dd299550>"
            ]
          },
          "metadata": {},
          "execution_count": 6
        },
        {
          "output_type": "display_data",
          "data": {
            "text/plain": [
              "<Figure size 432x288 with 1 Axes>"
            ],
            "image/png": "[encoded data removed]"
          },
          "metadata": {
            "needs_background": "light"
          }
        }
      ],
      "source": [
        "plt.imshow(train_images[49])"
      ],
      "id": "fda20baf"
    },
    {
      "cell_type": "markdown",
      "metadata": {
        "id": "b0d5b0ba"
      },
      "source": [
        "## Limpieza de datos"
      ],
      "id": "b0d5b0ba"
    },
    {
      "cell_type": "code",
      "execution_count": null,
      "metadata": {
        "colab": {
          "base_uri": "https://localhost:8080/"
        },
        "id": "550fb481",
        "outputId": "a0c17afb-3fde-4ab6-8b11-126791e18612"
      },
      "outputs": [
        {
          "output_type": "execute_result",
          "data": {
            "text/plain": [
              "0.0"
            ]
          },
          "metadata": {},
          "execution_count": 7
        }
      ],
      "source": [
        "train_images = train_images.astype('float32') / 255\n",
        "test_images = test_images.astype('float32') / 255\n",
        "\n",
        "train_images = train_images.reshape(train_images.shape[0], 28, 28, 1)\n",
        "test_images = test_images.reshape(test_images.shape[0], 28, 28, 1)\n",
        "\n",
        "train_labels = tf.keras.utils.to_categorical(train_labels, 10)\n",
        "test_labels = tf.keras.utils.to_categorical(test_labels, 10)\n",
        "\n",
        "train_labels[0][0]"
      ],
      "id": "550fb481"
    },
    {
      "cell_type": "code",
      "execution_count": null,
      "metadata": {
        "colab": {
          "base_uri": "https://localhost:8080/"
        },
        "id": "BdBfS782kyDe",
        "outputId": "ba9ea8cd-6dbb-40a3-ed2f-fde4ddcd2178"
      },
      "outputs": [
        {
          "output_type": "execute_result",
          "data": {
            "text/plain": [
              "array([[0., 0., 0., ..., 0., 0., 1.],\n",
              "       [1., 0., 0., ..., 0., 0., 0.],\n",
              "       [1., 0., 0., ..., 0., 0., 0.],\n",
              "       ...,\n",
              "       [0., 0., 0., ..., 0., 0., 0.],\n",
              "       [1., 0., 0., ..., 0., 0., 0.],\n",
              "       [0., 0., 0., ..., 0., 0., 0.]], dtype=float32)"
            ]
          },
          "metadata": {},
          "execution_count": 8
        }
      ],
      "source": [
        "train_labels"
      ],
      "id": "BdBfS782kyDe"
    },
    {
      "cell_type": "markdown",
      "metadata": {
        "id": "413b81f6"
      },
      "source": [
        "## Creando nuestra red neuronal"
      ],
      "id": "413b81f6"
    },
    {
      "cell_type": "code",
      "execution_count": null,
      "metadata": {
        "colab": {
          "base_uri": "https://localhost:8080/"
        },
        "id": "97a617a3",
        "outputId": "0315dae0-c05b-47b0-c9ba-a54e871afd7f"
      },
      "outputs": [
        {
          "name": "stdout",
          "output_type": "stream",
          "text": [
            "Model: \"sequential\"\n",
            "_________________________________________________________________\n",
            " Layer (type)                Output Shape              Param #   \n",
            "=================================================================\n",
            " conv2d (Conv2D)             (None, 28, 28, 64)        320       \n",
            "                                                                 \n",
            " max_pooling2d (MaxPooling2D  (None, 14, 14, 64)       0         \n",
            " )                                                               \n",
            "                                                                 \n",
            " dropout (Dropout)           (None, 14, 14, 64)        0         \n",
            "                                                                 \n",
            " conv2d_1 (Conv2D)           (None, 14, 14, 32)        8224      \n",
            "                                                                 \n",
            " max_pooling2d_1 (MaxPooling  (None, 7, 7, 32)         0         \n",
            " 2D)                                                             \n",
            "                                                                 \n",
            " dropout_1 (Dropout)         (None, 7, 7, 32)          0         \n",
            "                                                                 \n",
            " flatten (Flatten)           (None, 1568)              0         \n",
            "                                                                 \n",
            " dense (Dense)               (None, 256)               401664    \n",
            "                                                                 \n",
            " dropout_2 (Dropout)         (None, 256)               0         \n",
            "                                                                 \n",
            " dense_1 (Dense)             (None, 10)                2570      \n",
            "                                                                 \n",
            "=================================================================\n",
            "Total params: 412,778\n",
            "Trainable params: 412,778\n",
            "Non-trainable params: 0\n",
            "_________________________________________________________________\n"
          ]
        }
      ],
      "source": [
        "model = tf.keras.Sequential()\n",
        "# Must define the input shape in the first layer of the neural network\n",
        "model.add(Conv2D(filters=64, kernel_size=2, padding='same', activation='relu', input_shape=(28,28,1))) \n",
        "model.add(MaxPooling2D(pool_size=2))\n",
        "model.add(Dropout(0.3))\n",
        "model.add(Conv2D(filters=32, kernel_size=2, padding='same', activation='relu'))\n",
        "model.add(MaxPooling2D(pool_size=2))\n",
        "model.add(Dropout(0.3))\n",
        "model.add(Flatten())\n",
        "model.add(Dense(256, activation='relu'))\n",
        "model.add(Dropout(0.5))\n",
        "model.add(Dense(10, activation='softmax'))\n",
        "# Take a look at the model summary\n",
        "model.summary()"
      ],
      "id": "97a617a3"
    },
    {
      "cell_type": "markdown",
      "metadata": {
        "id": "89092450"
      },
      "source": [
        "## Compilando la red neuronal"
      ],
      "id": "89092450"
    },
    {
      "cell_type": "code",
      "execution_count": null,
      "metadata": {
        "id": "e9016e4c"
      },
      "outputs": [],
      "source": [
        "model.compile(loss='categorical_crossentropy',\n",
        "             optimizer='rmsprop',\n",
        "             metrics=['accuracy'])\n"
      ],
      "id": "e9016e4c"
    },
    {
      "cell_type": "code",
      "execution_count": null,
      "metadata": {
        "colab": {
          "base_uri": "https://localhost:8080/"
        },
        "id": "LtTeNaekwDEs",
        "outputId": "9ce41c5d-1072-46c2-b76d-4180b20a6aa9"
      },
      "outputs": [
        {
          "name": "stdout",
          "output_type": "stream",
          "text": [
            "(60000, 28, 28, 1)\n",
            "(60000, 10)\n",
            "<class 'numpy.ndarray'>\n",
            "<class 'numpy.ndarray'>\n"
          ]
        }
      ],
      "source": [
        "print(train_images.shape)\n",
        "print(train_labels.shape)\n",
        "print(type(train_images))\n",
        "print(type(train_labels))"
      ],
      "id": "LtTeNaekwDEs"
    },
    {
      "cell_type": "markdown",
      "metadata": {
        "id": "8869cd04"
      },
      "source": [
        "## Entenando la red"
      ],
      "id": "8869cd04"
    },
    {
      "cell_type": "code",
      "execution_count": null,
      "metadata": {
        "colab": {
          "background_save": true,
          "base_uri": "https://localhost:8080/"
        },
        "id": "a1fd3611",
        "outputId": "73f555e5-8d72-410a-c7e8-48f6430513e4"
      },
      "outputs": [
        {
          "name": "stdout",
          "output_type": "stream",
          "text": [
            "Epoch 1/10\n",
            "938/938 [==============================] - 86s 89ms/step - loss: 0.5668 - accuracy: 0.7946\n",
            "Epoch 2/10\n",
            "938/938 [==============================] - 81s 87ms/step - loss: 0.3957 - accuracy: 0.8582\n",
            "Epoch 3/10\n",
            "938/938 [==============================] - 82s 88ms/step - loss: 0.3519 - accuracy: 0.8735\n",
            "Epoch 4/10\n",
            "938/938 [==============================] - 80s 85ms/step - loss: 0.3367 - accuracy: 0.8819\n",
            "Epoch 5/10\n",
            "938/938 [==============================] - 80s 85ms/step - loss: 0.3242 - accuracy: 0.8844\n",
            "Epoch 6/10\n",
            "938/938 [==============================] - 84s 90ms/step - loss: 0.3209 - accuracy: 0.8859\n",
            "Epoch 7/10\n",
            "938/938 [==============================] - 81s 86ms/step - loss: 0.3194 - accuracy: 0.8885\n",
            "Epoch 8/10\n",
            "938/938 [==============================] - 78s 83ms/step - loss: 0.3160 - accuracy: 0.8887\n",
            "Epoch 9/10\n",
            "938/938 [==============================] - 78s 83ms/step - loss: 0.3183 - accuracy: 0.8891\n",
            "Epoch 10/10\n",
            "938/938 [==============================] - 76s 81ms/step - loss: 0.3227 - accuracy: 0.8877\n"
          ]
        },
        {
          "data": {
            "text/plain": [
              "<keras.callbacks.History at 0x7fceb3800670>"
            ]
          },
          "execution_count": 12,
          "metadata": {},
          "output_type": "execute_result"
        }
      ],
      "source": [
        "model.fit(train_images,\n",
        "         train_labels,\n",
        "         batch_size=64,\n",
        "         epochs=10)"
      ],
      "id": "a1fd3611"
    },
    {
      "cell_type": "markdown",
      "metadata": {
        "id": "8e86b8c0"
      },
      "source": [
        "## Análisis de resultados"
      ],
      "id": "8e86b8c0"
    },
    {
      "cell_type": "code",
      "execution_count": null,
      "metadata": {
        "colab": {
          "background_save": true
        },
        "id": "0fa6006c"
      },
      "outputs": [],
      "source": [
        "score = model.evaluate(test_images, test_labels, verbose=0)\n"
      ],
      "id": "0fa6006c"
    },
    {
      "cell_type": "code",
      "execution_count": null,
      "metadata": {
        "colab": {
          "background_save": true
        },
        "id": "816c552f",
        "outputId": "74af67aa-2c65-4764-dbaf-6651f49dfc01"
      },
      "outputs": [
        {
          "data": {
            "text/plain": [
              "[0.2897152602672577, 0.8991000056266785]"
            ]
          },
          "execution_count": 14,
          "metadata": {},
          "output_type": "execute_result"
        }
      ],
      "source": [
        "score"
      ],
      "id": "816c552f"
    },
    {
      "cell_type": "markdown",
      "metadata": {
        "id": "10f41634"
      },
      "source": [
        "## Callbacks"
      ],
      "id": "10f41634"
    },
    {
      "cell_type": "code",
      "execution_count": null,
      "metadata": {
        "colab": {
          "background_save": true
        },
        "id": "24aa9990",
        "outputId": "b96d2766-c915-4893-a91b-f9f0cdd1f426"
      },
      "outputs": [
        {
          "name": "stdout",
          "output_type": "stream",
          "text": [
            "Epoch 1/10\n",
            "938/938 [==============================] - 76s 81ms/step - loss: 0.3237 - accuracy: 0.8891\n",
            "Epoch 2/10\n",
            "938/938 [==============================] - 75s 80ms/step - loss: 0.3245 - accuracy: 0.8895\n",
            "Epoch 3/10\n",
            "938/938 [==============================] - 76s 81ms/step - loss: 0.3220 - accuracy: 0.8894\n"
          ]
        },
        {
          "data": {
            "text/plain": [
              "<keras.callbacks.History at 0x7fceb36c0a00>"
            ]
          },
          "execution_count": 15,
          "metadata": {},
          "output_type": "execute_result"
        }
      ],
      "source": [
        "early = tf.keras.callbacks.EarlyStopping(monitor='accuracy',patience=1)\n",
        "model.fit(train_images,\n",
        "         train_labels,\n",
        "         batch_size=64,\n",
        "        callbacks=[early],\n",
        "         epochs=10)"
      ],
      "id": "24aa9990"
    },
    {
      "cell_type": "code",
      "execution_count": null,
      "metadata": {
        "colab": {
          "background_save": true
        },
        "id": "ed642f24",
        "outputId": "3e2ca180-2885-436e-8e73-dc9e786c394b"
      },
      "outputs": [
        {
          "name": "stdout",
          "output_type": "stream",
          "text": [
            "Epoch 1/10\n",
            "937/938 [============================>.] - ETA: 0s - loss: 0.3278 - accuracy: 0.8883\n",
            "Epoch 1: accuracy improved from -inf to 0.88825, saving model to mi_primer_red_conv.hdf5\n",
            "938/938 [==============================] - 75s 80ms/step - loss: 0.3277 - accuracy: 0.8882\n",
            "Epoch 2/10\n",
            "937/938 [============================>.] - ETA: 0s - loss: 0.3267 - accuracy: 0.8894\n",
            "Epoch 2: accuracy improved from 0.88825 to 0.88943, saving model to mi_primer_red_conv.hdf5\n",
            "938/938 [==============================] - 75s 80ms/step - loss: 0.3267 - accuracy: 0.8894\n",
            "Epoch 3/10\n",
            "937/938 [============================>.] - ETA: 0s - loss: 0.3324 - accuracy: 0.8871\n",
            "Epoch 3: accuracy did not improve from 0.88943\n",
            "938/938 [==============================] - 75s 80ms/step - loss: 0.3329 - accuracy: 0.8871\n",
            "Epoch 4/10\n",
            "937/938 [============================>.] - ETA: 0s - loss: 0.3310 - accuracy: 0.8863\n",
            "Epoch 4: accuracy did not improve from 0.88943\n",
            "938/938 [==============================] - 75s 80ms/step - loss: 0.3311 - accuracy: 0.8863\n",
            "Epoch 5/10\n",
            "937/938 [============================>.] - ETA: 0s - loss: 0.3322 - accuracy: 0.8881\n",
            "Epoch 5: accuracy did not improve from 0.88943\n",
            "938/938 [==============================] - 75s 79ms/step - loss: 0.3322 - accuracy: 0.8881\n",
            "Epoch 6/10\n",
            "937/938 [============================>.] - ETA: 0s - loss: 0.3353 - accuracy: 0.8861\n",
            "Epoch 6: accuracy did not improve from 0.88943\n",
            "938/938 [==============================] - 76s 81ms/step - loss: 0.3354 - accuracy: 0.8861\n",
            "Epoch 7/10\n",
            "937/938 [============================>.] - ETA: 0s - loss: 0.3376 - accuracy: 0.8853\n",
            "Epoch 7: accuracy did not improve from 0.88943\n",
            "938/938 [==============================] - 74s 79ms/step - loss: 0.3376 - accuracy: 0.8852\n",
            "Epoch 8/10\n",
            "937/938 [============================>.] - ETA: 0s - loss: 0.3377 - accuracy: 0.8856\n",
            "Epoch 8: accuracy did not improve from 0.88943\n",
            "938/938 [==============================] - 74s 79ms/step - loss: 0.3376 - accuracy: 0.8856\n",
            "Epoch 9/10\n",
            "938/938 [==============================] - ETA: 0s - loss: 0.3388 - accuracy: 0.8866\n",
            "Epoch 9: accuracy did not improve from 0.88943\n",
            "938/938 [==============================] - 74s 79ms/step - loss: 0.3388 - accuracy: 0.8866\n",
            "Epoch 10/10\n",
            "937/938 [============================>.] - ETA: 0s - loss: 0.3393 - accuracy: 0.8847\n",
            "Epoch 10: accuracy did not improve from 0.88943\n",
            "938/938 [==============================] - 75s 80ms/step - loss: 0.3393 - accuracy: 0.8846\n"
          ]
        },
        {
          "data": {
            "text/plain": [
              "<keras.callbacks.History at 0x7fceb36e6d30>"
            ]
          },
          "execution_count": 16,
          "metadata": {},
          "output_type": "execute_result"
        }
      ],
      "source": [
        "checkpoint = tf.keras.callbacks.ModelCheckpoint(filepath='mi_primer_red_conv.hdf5',\n",
        "                                verbose=1,\n",
        "                                  monitor='accuracy',\n",
        "                                  save_best_only=True)\n",
        "model.fit(train_images,\n",
        "         train_labels,\n",
        "         batch_size=64,\n",
        "         callbacks=[checkpoint],\n",
        "         epochs=10)"
      ],
      "id": "ed642f24"
    },
    {
      "cell_type": "code",
      "execution_count": null,
      "metadata": {
        "colab": {
          "background_save": true
        },
        "id": "e94fb596"
      },
      "outputs": [],
      "source": [
        "model2 = model\n",
        "model2.load_weights('./mi_primer_red_conv.hdf5')"
      ],
      "id": "e94fb596"
    },
    {
      "cell_type": "code",
      "execution_count": null,
      "metadata": {
        "colab": {
          "background_save": true
        },
        "id": "16dbff4a",
        "outputId": "15687e8c-c894-434d-a46d-1c916bca6dc7"
      },
      "outputs": [
        {
          "name": "stdout",
          "output_type": "stream",
          "text": [
            "313/313 [==============================] - 3s 10ms/step - loss: 0.4120 - accuracy: 0.8860\n"
          ]
        },
        {
          "data": {
            "text/plain": [
              "[0.41200411319732666, 0.8859999775886536]"
            ]
          },
          "execution_count": 18,
          "metadata": {},
          "output_type": "execute_result"
        }
      ],
      "source": [
        "model2.evaluate(test_images, test_labels)"
      ],
      "id": "16dbff4a"
    }
  ],
  "metadata": {
    "colab": {
      "provenance": []
    },
    "kernelspec": {
      "display_name": "Python 3",
      "language": "python",
      "name": "python3"
    },
    "language_info": {
      "codemirror_mode": {
        "name": "ipython",
        "version": 3
      },
      "file_extension": ".py",
      "mimetype": "text/x-python",
      "name": "python",
      "nbconvert_exporter": "python",
      "pygments_lexer": "ipython3",
      "version": "3.7.10"
    },
    "papermill": {
      "default_parameters": {},
      "duration": 116.782148,
      "end_time": "2021-11-11T17:08:05.523595",
      "environment_variables": {},
      "exception": null,
      "input_path": "__notebook__.ipynb",
      "output_path": "__notebook__.ipynb",
      "parameters": {},
      "start_time": "2021-11-11T17:06:08.741447",
      "version": "2.3.3"
    }
  },
  "nbformat": 4,
  "nbformat_minor": 5
}