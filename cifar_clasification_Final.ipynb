{
  "metadata": {
    "kernelspec": {
      "language": "python",
      "display_name": "Python 3",
      "name": "python3"
    },
    "language_info": {
      "name": "python",
      "version": "3.7.10",
      "mimetype": "text/x-python",
      "codemirror_mode": {
        "name": "ipython",
        "version": 3
      },
      "pygments_lexer": "ipython3",
      "nbconvert_exporter": "python",
      "file_extension": ".py"
    },
    "colab": {
      "provenance": []
    }
  },
  "nbformat_minor": 0,
  "nbformat": 4,
  "cells": [
    {
      "cell_type": "markdown",
      "source": [
        "## Importando librerías"
      ],
      "metadata": {
        "id": "bf3Xpw7s9Ls1"
      }
    },
    {
      "cell_type": "code",
      "source": [
        "#Keras librarys\n",
        "from tensorflow import keras\n",
        "from tensorflow.keras.utils import to_categorical\n",
        "from tensorflow.keras import regularizers\n",
        "from tensorflow.keras.models import Sequential\n",
        "from tensorflow.keras.layers import Conv2D,MaxPooling2D, Flatten, Dense, Dropout, Activation, BatchNormalization\n",
        "from tensorflow.keras.datasets import cifar10\n",
        "from tensorflow.keras.preprocessing.image import ImageDataGenerator\n",
        "from tensorflow.keras.callbacks import ModelCheckpoint"
      ],
      "metadata": {
        "_uuid": "8f2839f25d086af736a60e9eeb907d3b93b6e0e5",
        "_cell_guid": "b1076dfc-b9ad-4769-8c92-a6c4dae69d19",
        "execution": {
          "iopub.status.busy": "2021-11-11T17:37:39.602340Z",
          "iopub.execute_input": "2021-11-11T17:37:39.602928Z",
          "iopub.status.idle": "2021-11-11T17:37:44.087025Z",
          "shell.execute_reply.started": "2021-11-11T17:37:39.602835Z",
          "shell.execute_reply": "2021-11-11T17:37:44.086247Z"
        },
        "trusted": true,
        "id": "K048YA449LtE"
      },
      "execution_count": null,
      "outputs": []
    },
    {
      "cell_type": "code",
      "source": [
        "import numpy as np\n",
        "import matplotlib.pyplot as plt "
      ],
      "metadata": {
        "execution": {
          "iopub.status.busy": "2021-11-11T17:37:45.843984Z",
          "iopub.execute_input": "2021-11-11T17:37:45.846294Z",
          "iopub.status.idle": "2021-11-11T17:37:45.853796Z",
          "shell.execute_reply.started": "2021-11-11T17:37:45.846253Z",
          "shell.execute_reply": "2021-11-11T17:37:45.853187Z"
        },
        "trusted": true,
        "id": "2XuHDjYR9LtP"
      },
      "execution_count": null,
      "outputs": []
    },
    {
      "cell_type": "markdown",
      "source": [
        "## Cargando dataset"
      ],
      "metadata": {
        "id": "ThOmMFZp9LtR"
      }
    },
    {
      "cell_type": "code",
      "source": [
        "(x_train, y_train), (x_test, y_test) = cifar10.load_data()"
      ],
      "metadata": {
        "execution": {
          "iopub.status.busy": "2021-11-11T17:38:25.440960Z",
          "iopub.execute_input": "2021-11-11T17:38:25.441223Z",
          "iopub.status.idle": "2021-11-11T17:38:30.173554Z",
          "shell.execute_reply.started": "2021-11-11T17:38:25.441197Z",
          "shell.execute_reply": "2021-11-11T17:38:30.172848Z"
        },
        "trusted": true,
        "id": "zW110_7G9LtW",
        "outputId": "7e26c1dd-4a82-4238-83ab-aaafee594772",
        "colab": {
          "base_uri": "https://localhost:8080/"
        }
      },
      "execution_count": null,
      "outputs": [
        {
          "output_type": "stream",
          "name": "stdout",
          "text": [
            "Downloading data from https://www.cs.toronto.edu/~kriz/cifar-10-python.tar.gz\n",
            "170498071/170498071 [==============================] - 4s 0us/step\n"
          ]
        }
      ]
    },
    {
      "cell_type": "code",
      "source": [
        "plt.imshow(x_train[5])"
      ],
      "metadata": {
        "execution": {
          "iopub.status.busy": "2021-11-11T17:38:38.135549Z",
          "iopub.execute_input": "2021-11-11T17:38:38.136203Z",
          "iopub.status.idle": "2021-11-11T17:38:38.397360Z",
          "shell.execute_reply.started": "2021-11-11T17:38:38.136170Z",
          "shell.execute_reply": "2021-11-11T17:38:38.396645Z"
        },
        "trusted": true,
        "id": "LYfj__gM9LtZ",
        "outputId": "ffd6a124-4a9a-4a3a-e182-1cb5d8524b0b",
        "colab": {
          "base_uri": "https://localhost:8080/",
          "height": 283
        }
      },
      "execution_count": null,
      "outputs": [
        {
          "output_type": "execute_result",
          "data": {
            "text/plain": [
              "<matplotlib.image.AxesImage at 0x7f00bc108250>"
            ]
          },
          "metadata": {},
          "execution_count": 7
        },
        {
          "output_type": "display_data",
          "data": {
            "text/plain": [
              "<Figure size 432x288 with 1 Axes>"
            ],
            "image/png": "[encoded data removed]"
          },
          "metadata": {
            "needs_background": "light"
          }
        }
      ]
    },
    {
      "cell_type": "markdown",
      "source": [
        "## Limpieza de datos"
      ],
      "metadata": {
        "id": "8rm7d92J9Ltc"
      }
    },
    {
      "cell_type": "code",
      "source": [
        "x_train = x_train.astype('float32')\n",
        "x_test = x_test.astype('float32')"
      ],
      "metadata": {
        "execution": {
          "iopub.status.busy": "2021-11-11T17:38:52.300107Z",
          "iopub.execute_input": "2021-11-11T17:38:52.300360Z",
          "iopub.status.idle": "2021-11-11T17:38:52.483170Z",
          "shell.execute_reply.started": "2021-11-11T17:38:52.300334Z",
          "shell.execute_reply": "2021-11-11T17:38:52.482456Z"
        },
        "trusted": true,
        "id": "NB8o5vDW9Ltg"
      },
      "execution_count": null,
      "outputs": []
    },
    {
      "cell_type": "code",
      "source": [
        "num_clases = len(np.unique(y_train))\n",
        "y_train = to_categorical(y_train, num_clases)\n",
        "y_test = to_categorical(y_test, num_clases)"
      ],
      "metadata": {
        "execution": {
          "iopub.status.busy": "2021-11-11T17:38:56.194228Z",
          "iopub.execute_input": "2021-11-11T17:38:56.194490Z",
          "iopub.status.idle": "2021-11-11T17:38:56.202922Z",
          "shell.execute_reply.started": "2021-11-11T17:38:56.194463Z",
          "shell.execute_reply": "2021-11-11T17:38:56.202117Z"
        },
        "trusted": true,
        "id": "FgpUB5LW9Lti"
      },
      "execution_count": null,
      "outputs": []
    },
    {
      "cell_type": "code",
      "source": [
        "y_train[0]"
      ],
      "metadata": {
        "execution": {
          "iopub.status.busy": "2021-11-11T17:39:00.534789Z",
          "iopub.execute_input": "2021-11-11T17:39:00.535056Z",
          "iopub.status.idle": "2021-11-11T17:39:00.540792Z",
          "shell.execute_reply.started": "2021-11-11T17:39:00.535030Z",
          "shell.execute_reply": "2021-11-11T17:39:00.540112Z"
        },
        "trusted": true,
        "id": "o-FUqvrC9Ltm",
        "outputId": "5cd058ec-260a-4af3-8fa2-ee79f964a2cb"
      },
      "execution_count": null,
      "outputs": [
        {
          "execution_count": 7,
          "output_type": "execute_result",
          "data": {
            "text/plain": "array([0., 0., 0., 0., 0., 0., 1., 0., 0., 0.], dtype=float32)"
          },
          "metadata": {}
        }
      ]
    },
    {
      "cell_type": "markdown",
      "source": [
        "### Normalization"
      ],
      "metadata": {
        "id": "c9VQ46EI9Ltp"
      }
    },
    {
      "cell_type": "code",
      "source": [
        "mean = np.mean(x_train)\n",
        "std = np.std(x_train)"
      ],
      "metadata": {
        "execution": {
          "iopub.status.busy": "2021-11-11T17:39:13.318079Z",
          "iopub.execute_input": "2021-11-11T17:39:13.318343Z",
          "iopub.status.idle": "2021-11-11T17:39:13.719900Z",
          "shell.execute_reply.started": "2021-11-11T17:39:13.318315Z",
          "shell.execute_reply": "2021-11-11T17:39:13.719142Z"
        },
        "trusted": true,
        "id": "tgJku2Wq9Ltq"
      },
      "execution_count": null,
      "outputs": []
    },
    {
      "cell_type": "code",
      "source": [
        "x_train = (x_train - mean) / (std+1e-7)\n",
        "x_test = (x_test - mean) / (std+1e-7)"
      ],
      "metadata": {
        "execution": {
          "iopub.status.busy": "2021-11-11T17:39:30.750113Z",
          "iopub.execute_input": "2021-11-11T17:39:30.750791Z",
          "iopub.status.idle": "2021-11-11T17:39:31.094817Z",
          "shell.execute_reply.started": "2021-11-11T17:39:30.750745Z",
          "shell.execute_reply": "2021-11-11T17:39:31.093988Z"
        },
        "trusted": true,
        "id": "lvuH7axB9Ltt"
      },
      "execution_count": null,
      "outputs": []
    },
    {
      "cell_type": "markdown",
      "source": [
        "## Creando set de datos"
      ],
      "metadata": {
        "id": "txeA52BO9Ltv"
      }
    },
    {
      "cell_type": "code",
      "source": [
        "(x_train, x_valid) = x_train[5000:], x_train[:5000]\n",
        "(y_train, y_valid) = y_train[5000:], y_train[:5000]\n",
        "\n",
        "print('x_train shape', x_train.shape)\n",
        "\n",
        "print('train;', x_train.shape[0])\n",
        "print('val;', x_valid.shape[0])\n",
        "print('test;', x_test.shape[0])"
      ],
      "metadata": {
        "execution": {
          "iopub.status.busy": "2021-11-11T17:39:41.132472Z",
          "iopub.execute_input": "2021-11-11T17:39:41.132878Z",
          "iopub.status.idle": "2021-11-11T17:39:41.140338Z",
          "shell.execute_reply.started": "2021-11-11T17:39:41.132847Z",
          "shell.execute_reply": "2021-11-11T17:39:41.139626Z"
        },
        "trusted": true,
        "id": "S4kvsh3O9Lty",
        "outputId": "40f0539c-aa92-4591-a88f-2a84f2e7b7d1",
        "colab": {
          "base_uri": "https://localhost:8080/"
        }
      },
      "execution_count": null,
      "outputs": [
        {
          "output_type": "stream",
          "name": "stdout",
          "text": [
            "x_train shape (45000, 32, 32, 3)\n",
            "train; 45000\n",
            "val; 5000\n",
            "test; 10000\n"
          ]
        }
      ]
    },
    {
      "cell_type": "markdown",
      "source": [
        "## Construyendo nuestro modelo convolucional"
      ],
      "metadata": {
        "id": "u5KX1fgt9Lt0"
      }
    },
    {
      "cell_type": "code",
      "source": [
        "base_filtros = 32\n",
        "w_regulatizer = 1e-4"
      ],
      "metadata": {
        "execution": {
          "iopub.status.busy": "2021-11-11T17:39:53.432689Z",
          "iopub.execute_input": "2021-11-11T17:39:53.433192Z",
          "iopub.status.idle": "2021-11-11T17:39:53.437224Z",
          "shell.execute_reply.started": "2021-11-11T17:39:53.433159Z",
          "shell.execute_reply": "2021-11-11T17:39:53.436481Z"
        },
        "trusted": true,
        "id": "aYyRrsVd9Lt2"
      },
      "execution_count": null,
      "outputs": []
    },
    {
      "cell_type": "code",
      "source": [
        "x_train.shape[1:]"
      ],
      "metadata": {
        "execution": {
          "iopub.status.busy": "2021-11-11T17:39:57.395088Z",
          "iopub.execute_input": "2021-11-11T17:39:57.395752Z",
          "iopub.status.idle": "2021-11-11T17:39:57.401295Z",
          "shell.execute_reply.started": "2021-11-11T17:39:57.395719Z",
          "shell.execute_reply": "2021-11-11T17:39:57.400462Z"
        },
        "trusted": true,
        "id": "zvodzyZ69Lt3",
        "outputId": "4d8948f4-f508-4b1c-c59b-131a7777ec39",
        "colab": {
          "base_uri": "https://localhost:8080/"
        }
      },
      "execution_count": null,
      "outputs": [
        {
          "output_type": "execute_result",
          "data": {
            "text/plain": [
              "(32, 32, 3)"
            ]
          },
          "metadata": {},
          "execution_count": 14
        }
      ]
    },
    {
      "cell_type": "code",
      "source": [
        "model = Sequential()\n",
        "## conv 1\n",
        "model.add(Conv2D(base_filtros, (3,3), padding='same', kernel_regularizer=regularizers.l2(w_regulatizer), input_shape=x_train.shape[1:]))\n",
        "model.add(Activation('relu'))\n",
        "model.add(BatchNormalization())\n",
        "\n",
        "## conv 2\n",
        "model.add(Conv2D(base_filtros, (3,3), padding='same', kernel_regularizer=regularizers.l2(w_regulatizer)))\n",
        "model.add(Activation('relu'))\n",
        "model.add(BatchNormalization())\n",
        "model.add(MaxPooling2D(pool_size=(2,2)))\n",
        "model.add(Dropout(0.2))\n",
        "\n",
        "## conv 3\n",
        "model.add(Conv2D(2*base_filtros, (3,3), padding='same', kernel_regularizer=regularizers.l2(w_regulatizer)))\n",
        "model.add(Activation('relu'))\n",
        "model.add(BatchNormalization())\n",
        "model.add(Dropout(0.2))\n",
        "\n",
        "## conv 4\n",
        "model.add(Conv2D(2*base_filtros, (3,3), padding='same', kernel_regularizer=regularizers.l2(w_regulatizer)))\n",
        "model.add(Activation('relu'))\n",
        "model.add(BatchNormalization())\n",
        "model.add(MaxPooling2D(pool_size=(2,2)))\n",
        "model.add(Dropout(0.3))\n",
        "\n",
        "## conv 5\n",
        "model.add(Conv2D(4*base_filtros, (3,3), padding='same', kernel_regularizer=regularizers.l2(w_regulatizer)))\n",
        "model.add(Activation('relu'))\n",
        "model.add(BatchNormalization())\n",
        "\n",
        "\n",
        "## conv 6\n",
        "model.add(Conv2D(4*base_filtros, (3,3), padding='same', kernel_regularizer=regularizers.l2(w_regulatizer)))\n",
        "model.add(Activation('relu'))\n",
        "model.add(BatchNormalization())\n",
        "model.add(MaxPooling2D(pool_size=(2,2)))\n",
        "model.add(Dropout(0.4))\n",
        "\n",
        "## Clasificacion - Flatten\n",
        "\n",
        "model.add(Flatten())\n",
        "model.add(Dense(num_clases,activation='softmax'))\n",
        "\n",
        "model.summary()\n",
        "\n"
      ],
      "metadata": {
        "execution": {
          "iopub.status.busy": "2021-11-11T17:40:03.061262Z",
          "iopub.execute_input": "2021-11-11T17:40:03.062044Z",
          "iopub.status.idle": "2021-11-11T17:40:05.244889Z",
          "shell.execute_reply.started": "2021-11-11T17:40:03.062000Z",
          "shell.execute_reply": "2021-11-11T17:40:05.244192Z"
        },
        "trusted": true,
        "id": "MGt1Di9q9Lt5",
        "outputId": "69037364-8df9-4dfd-fd8c-5fa50902e638",
        "colab": {
          "base_uri": "https://localhost:8080/"
        }
      },
      "execution_count": null,
      "outputs": [
        {
          "output_type": "stream",
          "name": "stdout",
          "text": [
            "Model: \"sequential_1\"\n",
            "_________________________________________________________________\n",
            " Layer (type)                Output Shape              Param #   \n",
            "=================================================================\n",
            " conv2d_6 (Conv2D)           (None, 32, 32, 32)        896       \n",
            "                                                                 \n",
            " activation_6 (Activation)   (None, 32, 32, 32)        0         \n",
            "                                                                 \n",
            " batch_normalization_6 (Batc  (None, 32, 32, 32)       128       \n",
            " hNormalization)                                                 \n",
            "                                                                 \n",
            " conv2d_7 (Conv2D)           (None, 32, 32, 32)        9248      \n",
            "                                                                 \n",
            " activation_7 (Activation)   (None, 32, 32, 32)        0         \n",
            "                                                                 \n",
            " batch_normalization_7 (Batc  (None, 32, 32, 32)       128       \n",
            " hNormalization)                                                 \n",
            "                                                                 \n",
            " max_pooling2d_3 (MaxPooling  (None, 16, 16, 32)       0         \n",
            " 2D)                                                             \n",
            "                                                                 \n",
            " dropout_4 (Dropout)         (None, 16, 16, 32)        0         \n",
            "                                                                 \n",
            " conv2d_8 (Conv2D)           (None, 16, 16, 64)        18496     \n",
            "                                                                 \n",
            " activation_8 (Activation)   (None, 16, 16, 64)        0         \n",
            "                                                                 \n",
            " batch_normalization_8 (Batc  (None, 16, 16, 64)       256       \n",
            " hNormalization)                                                 \n",
            "                                                                 \n",
            " dropout_5 (Dropout)         (None, 16, 16, 64)        0         \n",
            "                                                                 \n",
            " conv2d_9 (Conv2D)           (None, 16, 16, 64)        36928     \n",
            "                                                                 \n",
            " activation_9 (Activation)   (None, 16, 16, 64)        0         \n",
            "                                                                 \n",
            " batch_normalization_9 (Batc  (None, 16, 16, 64)       256       \n",
            " hNormalization)                                                 \n",
            "                                                                 \n",
            " max_pooling2d_4 (MaxPooling  (None, 8, 8, 64)         0         \n",
            " 2D)                                                             \n",
            "                                                                 \n",
            " dropout_6 (Dropout)         (None, 8, 8, 64)          0         \n",
            "                                                                 \n",
            " conv2d_10 (Conv2D)          (None, 8, 8, 128)         73856     \n",
            "                                                                 \n",
            " activation_10 (Activation)  (None, 8, 8, 128)         0         \n",
            "                                                                 \n",
            " batch_normalization_10 (Bat  (None, 8, 8, 128)        512       \n",
            " chNormalization)                                                \n",
            "                                                                 \n",
            " conv2d_11 (Conv2D)          (None, 8, 8, 128)         147584    \n",
            "                                                                 \n",
            " activation_11 (Activation)  (None, 8, 8, 128)         0         \n",
            "                                                                 \n",
            " batch_normalization_11 (Bat  (None, 8, 8, 128)        512       \n",
            " chNormalization)                                                \n",
            "                                                                 \n",
            " max_pooling2d_5 (MaxPooling  (None, 4, 4, 128)        0         \n",
            " 2D)                                                             \n",
            "                                                                 \n",
            " dropout_7 (Dropout)         (None, 4, 4, 128)         0         \n",
            "                                                                 \n",
            " flatten_1 (Flatten)         (None, 2048)              0         \n",
            "                                                                 \n",
            " dense (Dense)               (None, 10)                20490     \n",
            "                                                                 \n",
            "=================================================================\n",
            "Total params: 309,290\n",
            "Trainable params: 308,394\n",
            "Non-trainable params: 896\n",
            "_________________________________________________________________\n"
          ]
        }
      ]
    },
    {
      "cell_type": "markdown",
      "source": [
        "## Data augmentation"
      ],
      "metadata": {
        "id": "cqZC8Tu_9Lt8"
      }
    },
    {
      "cell_type": "code",
      "source": [
        "datagen = ImageDataGenerator(rotation_range=15,\n",
        "                  width_shift_range=0.1,\n",
        "                  height_shift_range=0.1,\n",
        "                  horizontal_flip=True,\n",
        "                  vertical_flip=True)"
      ],
      "metadata": {
        "execution": {
          "iopub.status.busy": "2021-11-11T17:40:10.005579Z",
          "iopub.execute_input": "2021-11-11T17:40:10.006124Z",
          "iopub.status.idle": "2021-11-11T17:40:10.011879Z",
          "shell.execute_reply.started": "2021-11-11T17:40:10.006092Z",
          "shell.execute_reply": "2021-11-11T17:40:10.011023Z"
        },
        "trusted": true,
        "id": "HkbtV37W9Lt-"
      },
      "execution_count": null,
      "outputs": []
    },
    {
      "cell_type": "markdown",
      "source": [
        "## Compilando"
      ],
      "metadata": {
        "id": "Gk5H6yq69LuA"
      }
    },
    {
      "cell_type": "code",
      "source": [
        "from tensorflow.keras import optimizers"
      ],
      "metadata": {
        "execution": {
          "iopub.status.busy": "2021-11-11T17:40:22.151023Z",
          "iopub.execute_input": "2021-11-11T17:40:22.151276Z",
          "iopub.status.idle": "2021-11-11T17:40:22.155226Z",
          "shell.execute_reply.started": "2021-11-11T17:40:22.151250Z",
          "shell.execute_reply": "2021-11-11T17:40:22.154205Z"
        },
        "trusted": true,
        "id": "hxCconDk9LuC"
      },
      "execution_count": null,
      "outputs": []
    },
    {
      "cell_type": "code",
      "source": [
        "model.compile(loss='categorical_crossentropy', optimizer=optimizers.Adam(),\n",
        "             metrics=['accuracy'])"
      ],
      "metadata": {
        "execution": {
          "iopub.status.busy": "2021-11-11T17:40:25.138438Z",
          "iopub.execute_input": "2021-11-11T17:40:25.139225Z",
          "iopub.status.idle": "2021-11-11T17:40:25.154622Z",
          "shell.execute_reply.started": "2021-11-11T17:40:25.139179Z",
          "shell.execute_reply": "2021-11-11T17:40:25.153880Z"
        },
        "trusted": true,
        "id": "ll3r1-a-9LuI"
      },
      "execution_count": null,
      "outputs": []
    },
    {
      "cell_type": "code",
      "source": [
        "#hist = model.fit(x_train, y_train, batch_size=32,epochs=100,\n",
        "#                validation_data=(x_valid, y_valid),\n",
        "#                verbose=2, shuffle=True)"
      ],
      "metadata": {
        "execution": {
          "iopub.status.busy": "2021-10-13T16:46:07.209078Z",
          "iopub.execute_input": "2021-10-13T16:46:07.209457Z",
          "iopub.status.idle": "2021-10-13T16:58:04.366584Z",
          "shell.execute_reply.started": "2021-10-13T16:46:07.209426Z",
          "shell.execute_reply": "2021-10-13T16:58:04.365854Z"
        },
        "trusted": true,
        "id": "AvnZlK4h9LuK"
      },
      "execution_count": null,
      "outputs": []
    },
    {
      "cell_type": "markdown",
      "source": [
        "## Callbacks"
      ],
      "metadata": {
        "id": "gjvs3wDB9LuL"
      }
    },
    {
      "cell_type": "code",
      "source": [
        "chekcpoint = ModelCheckpoint('mi_mejor_modelo.hdf5',verbose=1,save_best_only=True, monitor = 'val_accuracy')"
      ],
      "metadata": {
        "execution": {
          "iopub.status.busy": "2021-11-11T17:41:42.458717Z",
          "iopub.execute_input": "2021-11-11T17:41:42.458974Z",
          "iopub.status.idle": "2021-11-11T17:41:42.465817Z",
          "shell.execute_reply.started": "2021-11-11T17:41:42.458949Z",
          "shell.execute_reply": "2021-11-11T17:41:42.464557Z"
        },
        "trusted": true,
        "id": "kkVePz9t9LuL"
      },
      "execution_count": null,
      "outputs": []
    },
    {
      "cell_type": "markdown",
      "source": [
        "## Entrenando nuestro modelo"
      ],
      "metadata": {
        "id": "pYjFPJzf9LuM"
      }
    },
    {
      "cell_type": "code",
      "source": [
        "hist = model.fit(datagen.flow(x_train, y_train, batch_size=128),\n",
        "          callbacks=[chekcpoint],\n",
        "          steps_per_epoch=x_train.shape[0] // 128, \n",
        "          epochs=120,\n",
        "          verbose=2,\n",
        "          validation_data=(x_valid, y_valid)\n",
        "         )"
      ],
      "metadata": {
        "execution": {
          "iopub.status.busy": "2021-11-11T17:42:29.095009Z",
          "iopub.execute_input": "2021-11-11T17:42:29.095274Z",
          "iopub.status.idle": "2021-11-11T18:24:42.547402Z",
          "shell.execute_reply.started": "2021-11-11T17:42:29.095248Z",
          "shell.execute_reply": "2021-11-11T18:24:42.546393Z"
        },
        "trusted": true,
        "id": "gOywDa1l9LuP",
        "outputId": "25fa576a-8659-40b3-aecd-50041e41414c"
      },
      "execution_count": null,
      "outputs": [
        {
          "name": "stderr",
          "text": "2021-11-11 17:42:29.234920: I tensorflow/compiler/mlir/mlir_graph_optimization_pass.cc:116] None of the MLIR optimization passes are enabled (registered 2)\n2021-11-11 17:42:29.239117: I tensorflow/core/platform/profile_utils/cpu_utils.cc:112] CPU Frequency: 2000155000 Hz\n",
          "output_type": "stream"
        },
        {
          "name": "stdout",
          "text": "Epoch 1/120\n",
          "output_type": "stream"
        },
        {
          "name": "stderr",
          "text": "2021-11-11 17:42:30.400796: I tensorflow/stream_executor/platform/default/dso_loader.cc:49] Successfully opened dynamic library libcublas.so.11\n2021-11-11 17:42:31.177938: I tensorflow/stream_executor/platform/default/dso_loader.cc:49] Successfully opened dynamic library libcublasLt.so.11\n2021-11-11 17:42:31.204998: I tensorflow/stream_executor/platform/default/dso_loader.cc:49] Successfully opened dynamic library libcudnn.so.8\n",
          "output_type": "stream"
        },
        {
          "name": "stdout",
          "text": "351/351 - 29s - loss: 2.2515 - accuracy: 0.3210 - val_loss: 2.0859 - val_accuracy: 0.3232\n\nEpoch 00001: val_accuracy improved from -inf to 0.32320, saving model to mi_mejor_modelo.hdf5\nEpoch 2/120\n351/351 - 22s - loss: 1.6939 - accuracy: 0.4333 - val_loss: 1.6103 - val_accuracy: 0.4680\n\nEpoch 00002: val_accuracy improved from 0.32320 to 0.46800, saving model to mi_mejor_modelo.hdf5\nEpoch 3/120\n351/351 - 21s - loss: 1.4884 - accuracy: 0.5028 - val_loss: 1.4405 - val_accuracy: 0.5324\n\nEpoch 00003: val_accuracy improved from 0.46800 to 0.53240, saving model to mi_mejor_modelo.hdf5\nEpoch 4/120\n351/351 - 21s - loss: 1.3515 - accuracy: 0.5451 - val_loss: 1.1549 - val_accuracy: 0.6102\n\nEpoch 00004: val_accuracy improved from 0.53240 to 0.61020, saving model to mi_mejor_modelo.hdf5\nEpoch 5/120\n351/351 - 21s - loss: 1.2626 - accuracy: 0.5733 - val_loss: 1.2492 - val_accuracy: 0.5972\n\nEpoch 00005: val_accuracy did not improve from 0.61020\nEpoch 6/120\n351/351 - 20s - loss: 1.1903 - accuracy: 0.5962 - val_loss: 1.2485 - val_accuracy: 0.6012\n\nEpoch 00006: val_accuracy did not improve from 0.61020\nEpoch 7/120\n351/351 - 20s - loss: 1.1198 - accuracy: 0.6204 - val_loss: 1.0914 - val_accuracy: 0.6478\n\nEpoch 00007: val_accuracy improved from 0.61020 to 0.64780, saving model to mi_mejor_modelo.hdf5\nEpoch 8/120\n351/351 - 20s - loss: 1.0723 - accuracy: 0.6377 - val_loss: 1.1903 - val_accuracy: 0.6378\n\nEpoch 00008: val_accuracy did not improve from 0.64780\nEpoch 9/120\n351/351 - 20s - loss: 1.0316 - accuracy: 0.6554 - val_loss: 1.0864 - val_accuracy: 0.6478\n\nEpoch 00009: val_accuracy did not improve from 0.64780\nEpoch 10/120\n351/351 - 21s - loss: 1.0022 - accuracy: 0.6653 - val_loss: 0.9307 - val_accuracy: 0.7008\n\nEpoch 00010: val_accuracy improved from 0.64780 to 0.70080, saving model to mi_mejor_modelo.hdf5\nEpoch 11/120\n351/351 - 20s - loss: 0.9770 - accuracy: 0.6760 - val_loss: 0.8755 - val_accuracy: 0.7190\n\nEpoch 00011: val_accuracy improved from 0.70080 to 0.71900, saving model to mi_mejor_modelo.hdf5\nEpoch 12/120\n351/351 - 20s - loss: 0.9490 - accuracy: 0.6894 - val_loss: 0.9056 - val_accuracy: 0.7080\n\nEpoch 00012: val_accuracy did not improve from 0.71900\nEpoch 13/120\n351/351 - 20s - loss: 0.9311 - accuracy: 0.6933 - val_loss: 0.8731 - val_accuracy: 0.7286\n\nEpoch 00013: val_accuracy improved from 0.71900 to 0.72860, saving model to mi_mejor_modelo.hdf5\nEpoch 14/120\n351/351 - 20s - loss: 0.9131 - accuracy: 0.7047 - val_loss: 0.9752 - val_accuracy: 0.6966\n\nEpoch 00014: val_accuracy did not improve from 0.72860\nEpoch 15/120\n351/351 - 21s - loss: 0.8988 - accuracy: 0.7082 - val_loss: 0.7813 - val_accuracy: 0.7578\n\nEpoch 00015: val_accuracy improved from 0.72860 to 0.75780, saving model to mi_mejor_modelo.hdf5\nEpoch 16/120\n351/351 - 20s - loss: 0.8883 - accuracy: 0.7137 - val_loss: 0.8138 - val_accuracy: 0.7462\n\nEpoch 00016: val_accuracy did not improve from 0.75780\nEpoch 17/120\n351/351 - 22s - loss: 0.8785 - accuracy: 0.7200 - val_loss: 0.9583 - val_accuracy: 0.7086\n\nEpoch 00017: val_accuracy did not improve from 0.75780\nEpoch 18/120\n351/351 - 22s - loss: 0.8635 - accuracy: 0.7251 - val_loss: 0.8373 - val_accuracy: 0.7380\n\nEpoch 00018: val_accuracy did not improve from 0.75780\nEpoch 19/120\n351/351 - 21s - loss: 0.8532 - accuracy: 0.7303 - val_loss: 0.7856 - val_accuracy: 0.7608\n\nEpoch 00019: val_accuracy improved from 0.75780 to 0.76080, saving model to mi_mejor_modelo.hdf5\nEpoch 20/120\n351/351 - 21s - loss: 0.8494 - accuracy: 0.7342 - val_loss: 0.8518 - val_accuracy: 0.7380\n\nEpoch 00020: val_accuracy did not improve from 0.76080\nEpoch 21/120\n351/351 - 22s - loss: 0.8407 - accuracy: 0.7376 - val_loss: 0.8187 - val_accuracy: 0.7542\n\nEpoch 00021: val_accuracy did not improve from 0.76080\nEpoch 22/120\n351/351 - 21s - loss: 0.8312 - accuracy: 0.7414 - val_loss: 0.7425 - val_accuracy: 0.7746\n\nEpoch 00022: val_accuracy improved from 0.76080 to 0.77460, saving model to mi_mejor_modelo.hdf5\nEpoch 23/120\n351/351 - 22s - loss: 0.8158 - accuracy: 0.7473 - val_loss: 0.8792 - val_accuracy: 0.7442\n\nEpoch 00023: val_accuracy did not improve from 0.77460\nEpoch 24/120\n351/351 - 21s - loss: 0.8157 - accuracy: 0.7490 - val_loss: 0.7550 - val_accuracy: 0.7718\n\nEpoch 00024: val_accuracy did not improve from 0.77460\nEpoch 25/120\n351/351 - 21s - loss: 0.8125 - accuracy: 0.7489 - val_loss: 0.7357 - val_accuracy: 0.7820\n\nEpoch 00025: val_accuracy improved from 0.77460 to 0.78200, saving model to mi_mejor_modelo.hdf5\nEpoch 26/120\n351/351 - 21s - loss: 0.8127 - accuracy: 0.7519 - val_loss: 0.7807 - val_accuracy: 0.7756\n\nEpoch 00026: val_accuracy did not improve from 0.78200\nEpoch 27/120\n351/351 - 21s - loss: 0.8013 - accuracy: 0.7552 - val_loss: 0.7874 - val_accuracy: 0.7750\n\nEpoch 00027: val_accuracy did not improve from 0.78200\nEpoch 28/120\n351/351 - 21s - loss: 0.7968 - accuracy: 0.7580 - val_loss: 0.7360 - val_accuracy: 0.7748\n\nEpoch 00028: val_accuracy did not improve from 0.78200\nEpoch 29/120\n351/351 - 21s - loss: 0.7954 - accuracy: 0.7593 - val_loss: 0.7133 - val_accuracy: 0.7952\n\nEpoch 00029: val_accuracy improved from 0.78200 to 0.79520, saving model to mi_mejor_modelo.hdf5\nEpoch 30/120\n351/351 - 21s - loss: 0.7870 - accuracy: 0.7629 - val_loss: 0.7302 - val_accuracy: 0.7872\n\nEpoch 00030: val_accuracy did not improve from 0.79520\nEpoch 31/120\n351/351 - 20s - loss: 0.7886 - accuracy: 0.7622 - val_loss: 0.8044 - val_accuracy: 0.7690\n\nEpoch 00031: val_accuracy did not improve from 0.79520\nEpoch 32/120\n351/351 - 21s - loss: 0.7920 - accuracy: 0.7634 - val_loss: 0.7137 - val_accuracy: 0.7998\n\nEpoch 00032: val_accuracy improved from 0.79520 to 0.79980, saving model to mi_mejor_modelo.hdf5\nEpoch 33/120\n351/351 - 20s - loss: 0.7727 - accuracy: 0.7709 - val_loss: 0.8228 - val_accuracy: 0.7654\n\nEpoch 00033: val_accuracy did not improve from 0.79980\nEpoch 34/120\n351/351 - 21s - loss: 0.7800 - accuracy: 0.7678 - val_loss: 0.7551 - val_accuracy: 0.7862\n\nEpoch 00034: val_accuracy did not improve from 0.79980\nEpoch 35/120\n351/351 - 21s - loss: 0.7774 - accuracy: 0.7679 - val_loss: 0.7347 - val_accuracy: 0.7906\n\nEpoch 00035: val_accuracy did not improve from 0.79980\nEpoch 36/120\n351/351 - 20s - loss: 0.7707 - accuracy: 0.7699 - val_loss: 0.6713 - val_accuracy: 0.8108\n\nEpoch 00036: val_accuracy improved from 0.79980 to 0.81080, saving model to mi_mejor_modelo.hdf5\nEpoch 37/120\n351/351 - 21s - loss: 0.7628 - accuracy: 0.7730 - val_loss: 0.7387 - val_accuracy: 0.7900\n\nEpoch 00037: val_accuracy did not improve from 0.81080\nEpoch 38/120\n351/351 - 21s - loss: 0.7725 - accuracy: 0.7728 - val_loss: 0.7580 - val_accuracy: 0.7880\n\nEpoch 00038: val_accuracy did not improve from 0.81080\nEpoch 39/120\n351/351 - 21s - loss: 0.7617 - accuracy: 0.7761 - val_loss: 0.7540 - val_accuracy: 0.7878\n\nEpoch 00039: val_accuracy did not improve from 0.81080\nEpoch 40/120\n351/351 - 21s - loss: 0.7629 - accuracy: 0.7755 - val_loss: 0.7649 - val_accuracy: 0.7792\n\nEpoch 00040: val_accuracy did not improve from 0.81080\nEpoch 41/120\n351/351 - 21s - loss: 0.7560 - accuracy: 0.7794 - val_loss: 0.6927 - val_accuracy: 0.8066\n\nEpoch 00041: val_accuracy did not improve from 0.81080\nEpoch 42/120\n351/351 - 21s - loss: 0.7624 - accuracy: 0.7757 - val_loss: 0.7250 - val_accuracy: 0.7898\n\nEpoch 00042: val_accuracy did not improve from 0.81080\nEpoch 43/120\n351/351 - 21s - loss: 0.7555 - accuracy: 0.7821 - val_loss: 0.7583 - val_accuracy: 0.7868\n\nEpoch 00043: val_accuracy did not improve from 0.81080\nEpoch 44/120\n351/351 - 21s - loss: 0.7495 - accuracy: 0.7826 - val_loss: 0.7294 - val_accuracy: 0.7916\n\nEpoch 00044: val_accuracy did not improve from 0.81080\nEpoch 45/120\n351/351 - 21s - loss: 0.7528 - accuracy: 0.7800 - val_loss: 0.7453 - val_accuracy: 0.7926\n\nEpoch 00045: val_accuracy did not improve from 0.81080\nEpoch 46/120\n351/351 - 21s - loss: 0.7463 - accuracy: 0.7849 - val_loss: 0.7701 - val_accuracy: 0.7838\n\nEpoch 00046: val_accuracy did not improve from 0.81080\nEpoch 47/120\n351/351 - 21s - loss: 0.7454 - accuracy: 0.7847 - val_loss: 0.7220 - val_accuracy: 0.8000\n\nEpoch 00047: val_accuracy did not improve from 0.81080\nEpoch 48/120\n351/351 - 21s - loss: 0.7473 - accuracy: 0.7859 - val_loss: 0.6622 - val_accuracy: 0.8190\n\nEpoch 00048: val_accuracy improved from 0.81080 to 0.81900, saving model to mi_mejor_modelo.hdf5\nEpoch 49/120\n351/351 - 21s - loss: 0.7425 - accuracy: 0.7867 - val_loss: 0.6888 - val_accuracy: 0.8088\n\nEpoch 00049: val_accuracy did not improve from 0.81900\nEpoch 50/120\n351/351 - 20s - loss: 0.7396 - accuracy: 0.7877 - val_loss: 0.7185 - val_accuracy: 0.8030\n\nEpoch 00050: val_accuracy did not improve from 0.81900\nEpoch 51/120\n351/351 - 21s - loss: 0.7409 - accuracy: 0.7846 - val_loss: 0.7467 - val_accuracy: 0.7902\n\nEpoch 00051: val_accuracy did not improve from 0.81900\nEpoch 52/120\n351/351 - 21s - loss: 0.7394 - accuracy: 0.7865 - val_loss: 0.7153 - val_accuracy: 0.7998\n\nEpoch 00052: val_accuracy did not improve from 0.81900\nEpoch 53/120\n351/351 - 21s - loss: 0.7429 - accuracy: 0.7868 - val_loss: 0.7882 - val_accuracy: 0.7820\n\nEpoch 00053: val_accuracy did not improve from 0.81900\nEpoch 54/120\n351/351 - 21s - loss: 0.7355 - accuracy: 0.7900 - val_loss: 0.7189 - val_accuracy: 0.7974\n\nEpoch 00054: val_accuracy did not improve from 0.81900\nEpoch 55/120\n351/351 - 20s - loss: 0.7315 - accuracy: 0.7901 - val_loss: 0.6876 - val_accuracy: 0.8158\n\nEpoch 00055: val_accuracy did not improve from 0.81900\nEpoch 56/120\n351/351 - 21s - loss: 0.7310 - accuracy: 0.7928 - val_loss: 0.7130 - val_accuracy: 0.8032\n\nEpoch 00056: val_accuracy did not improve from 0.81900\nEpoch 57/120\n351/351 - 21s - loss: 0.7319 - accuracy: 0.7906 - val_loss: 0.7313 - val_accuracy: 0.8020\n\nEpoch 00057: val_accuracy did not improve from 0.81900\nEpoch 58/120\n351/351 - 20s - loss: 0.7336 - accuracy: 0.7909 - val_loss: 0.6888 - val_accuracy: 0.8114\n\nEpoch 00058: val_accuracy did not improve from 0.81900\nEpoch 59/120\n351/351 - 21s - loss: 0.7320 - accuracy: 0.7897 - val_loss: 0.7955 - val_accuracy: 0.7832\n\nEpoch 00059: val_accuracy did not improve from 0.81900\nEpoch 60/120\n351/351 - 21s - loss: 0.7307 - accuracy: 0.7912 - val_loss: 0.6736 - val_accuracy: 0.8132\n\nEpoch 00060: val_accuracy did not improve from 0.81900\nEpoch 61/120\n351/351 - 21s - loss: 0.7287 - accuracy: 0.7940 - val_loss: 0.7029 - val_accuracy: 0.7990\n\nEpoch 00061: val_accuracy did not improve from 0.81900\nEpoch 62/120\n351/351 - 24s - loss: 0.7278 - accuracy: 0.7913 - val_loss: 0.7139 - val_accuracy: 0.8070\n\nEpoch 00062: val_accuracy did not improve from 0.81900\nEpoch 63/120\n351/351 - 22s - loss: 0.7250 - accuracy: 0.7951 - val_loss: 0.6944 - val_accuracy: 0.8120\n\nEpoch 00063: val_accuracy did not improve from 0.81900\nEpoch 64/120\n351/351 - 20s - loss: 0.7293 - accuracy: 0.7923 - val_loss: 0.6685 - val_accuracy: 0.8174\n\nEpoch 00064: val_accuracy did not improve from 0.81900\nEpoch 65/120\n351/351 - 21s - loss: 0.7227 - accuracy: 0.7956 - val_loss: 0.7485 - val_accuracy: 0.7980\n\nEpoch 00065: val_accuracy did not improve from 0.81900\nEpoch 66/120\n351/351 - 21s - loss: 0.7252 - accuracy: 0.7943 - val_loss: 0.7200 - val_accuracy: 0.8016\n\nEpoch 00066: val_accuracy did not improve from 0.81900\nEpoch 67/120\n351/351 - 20s - loss: 0.7228 - accuracy: 0.7962 - val_loss: 0.6790 - val_accuracy: 0.8170\n\nEpoch 00067: val_accuracy did not improve from 0.81900\nEpoch 68/120\n351/351 - 21s - loss: 0.7227 - accuracy: 0.7959 - val_loss: 0.7574 - val_accuracy: 0.7962\n\nEpoch 00068: val_accuracy did not improve from 0.81900\nEpoch 69/120\n351/351 - 22s - loss: 0.7238 - accuracy: 0.7948 - val_loss: 0.6682 - val_accuracy: 0.8244\n\nEpoch 00069: val_accuracy improved from 0.81900 to 0.82440, saving model to mi_mejor_modelo.hdf5\nEpoch 70/120\n351/351 - 21s - loss: 0.7186 - accuracy: 0.7989 - val_loss: 0.7315 - val_accuracy: 0.8022\n\nEpoch 00070: val_accuracy did not improve from 0.82440\nEpoch 71/120\n351/351 - 21s - loss: 0.7245 - accuracy: 0.7966 - val_loss: 0.6376 - val_accuracy: 0.8360\n\nEpoch 00071: val_accuracy improved from 0.82440 to 0.83600, saving model to mi_mejor_modelo.hdf5\nEpoch 72/120\n351/351 - 21s - loss: 0.7222 - accuracy: 0.7940 - val_loss: 0.7257 - val_accuracy: 0.8032\n\nEpoch 00072: val_accuracy did not improve from 0.83600\nEpoch 73/120\n351/351 - 21s - loss: 0.7174 - accuracy: 0.7982 - val_loss: 0.6684 - val_accuracy: 0.8168\n\nEpoch 00073: val_accuracy did not improve from 0.83600\nEpoch 74/120\n351/351 - 21s - loss: 0.7177 - accuracy: 0.7980 - val_loss: 0.7760 - val_accuracy: 0.7912\n\nEpoch 00074: val_accuracy did not improve from 0.83600\nEpoch 75/120\n351/351 - 20s - loss: 0.7153 - accuracy: 0.7988 - val_loss: 0.6862 - val_accuracy: 0.8142\n\nEpoch 00075: val_accuracy did not improve from 0.83600\nEpoch 76/120\n351/351 - 21s - loss: 0.7194 - accuracy: 0.7961 - val_loss: 0.7312 - val_accuracy: 0.8012\n\nEpoch 00076: val_accuracy did not improve from 0.83600\nEpoch 77/120\n351/351 - 21s - loss: 0.7149 - accuracy: 0.7994 - val_loss: 0.7477 - val_accuracy: 0.8012\n\nEpoch 00077: val_accuracy did not improve from 0.83600\nEpoch 78/120\n351/351 - 21s - loss: 0.7165 - accuracy: 0.8001 - val_loss: 0.6472 - val_accuracy: 0.8292\n\nEpoch 00078: val_accuracy did not improve from 0.83600\nEpoch 79/120\n351/351 - 22s - loss: 0.7122 - accuracy: 0.7999 - val_loss: 0.7491 - val_accuracy: 0.7968\n\nEpoch 00079: val_accuracy did not improve from 0.83600\nEpoch 80/120\n351/351 - 21s - loss: 0.7130 - accuracy: 0.8010 - val_loss: 0.7250 - val_accuracy: 0.8142\n\nEpoch 00080: val_accuracy did not improve from 0.83600\nEpoch 81/120\n351/351 - 21s - loss: 0.7108 - accuracy: 0.7988 - val_loss: 0.6955 - val_accuracy: 0.8168\n\nEpoch 00081: val_accuracy did not improve from 0.83600\nEpoch 82/120\n351/351 - 21s - loss: 0.7078 - accuracy: 0.8028 - val_loss: 0.6988 - val_accuracy: 0.8148\n\nEpoch 00082: val_accuracy did not improve from 0.83600\nEpoch 83/120\n351/351 - 22s - loss: 0.7160 - accuracy: 0.7989 - val_loss: 0.6777 - val_accuracy: 0.8228\n\nEpoch 00083: val_accuracy did not improve from 0.83600\nEpoch 84/120\n351/351 - 20s - loss: 0.7126 - accuracy: 0.7997 - val_loss: 0.7633 - val_accuracy: 0.7944\n\nEpoch 00084: val_accuracy did not improve from 0.83600\nEpoch 85/120\n351/351 - 21s - loss: 0.7095 - accuracy: 0.8019 - val_loss: 0.6885 - val_accuracy: 0.8216\n\nEpoch 00085: val_accuracy did not improve from 0.83600\nEpoch 86/120\n351/351 - 21s - loss: 0.7050 - accuracy: 0.8048 - val_loss: 0.6649 - val_accuracy: 0.8222\n\nEpoch 00086: val_accuracy did not improve from 0.83600\nEpoch 87/120\n351/351 - 21s - loss: 0.7112 - accuracy: 0.8026 - val_loss: 0.7024 - val_accuracy: 0.8168\n\nEpoch 00087: val_accuracy did not improve from 0.83600\nEpoch 88/120\n351/351 - 21s - loss: 0.7089 - accuracy: 0.8032 - val_loss: 0.6041 - val_accuracy: 0.8472\n\nEpoch 00088: val_accuracy improved from 0.83600 to 0.84720, saving model to mi_mejor_modelo.hdf5\nEpoch 89/120\n351/351 - 20s - loss: 0.7105 - accuracy: 0.8015 - val_loss: 0.7290 - val_accuracy: 0.8072\n\nEpoch 00089: val_accuracy did not improve from 0.84720\nEpoch 90/120\n351/351 - 21s - loss: 0.7049 - accuracy: 0.8042 - val_loss: 0.6577 - val_accuracy: 0.8238\n\nEpoch 00090: val_accuracy did not improve from 0.84720\nEpoch 91/120\n351/351 - 21s - loss: 0.7088 - accuracy: 0.8031 - val_loss: 0.6465 - val_accuracy: 0.8276\n\nEpoch 00091: val_accuracy did not improve from 0.84720\nEpoch 92/120\n351/351 - 21s - loss: 0.7092 - accuracy: 0.8024 - val_loss: 0.6811 - val_accuracy: 0.8196\n\nEpoch 00092: val_accuracy did not improve from 0.84720\nEpoch 93/120\n351/351 - 21s - loss: 0.7074 - accuracy: 0.8007 - val_loss: 0.6618 - val_accuracy: 0.8284\n\nEpoch 00093: val_accuracy did not improve from 0.84720\nEpoch 94/120\n351/351 - 21s - loss: 0.7088 - accuracy: 0.8024 - val_loss: 0.6537 - val_accuracy: 0.8280\n\nEpoch 00094: val_accuracy did not improve from 0.84720\nEpoch 95/120\n351/351 - 21s - loss: 0.7027 - accuracy: 0.8048 - val_loss: 0.6603 - val_accuracy: 0.8242\n\nEpoch 00095: val_accuracy did not improve from 0.84720\nEpoch 96/120\n351/351 - 22s - loss: 0.7067 - accuracy: 0.8039 - val_loss: 0.6314 - val_accuracy: 0.8330\n\nEpoch 00096: val_accuracy did not improve from 0.84720\nEpoch 97/120\n351/351 - 21s - loss: 0.7007 - accuracy: 0.8078 - val_loss: 0.6876 - val_accuracy: 0.8142\n\nEpoch 00097: val_accuracy did not improve from 0.84720\nEpoch 98/120\n351/351 - 21s - loss: 0.7026 - accuracy: 0.8048 - val_loss: 0.7434 - val_accuracy: 0.7988\n\nEpoch 00098: val_accuracy did not improve from 0.84720\nEpoch 99/120\n351/351 - 21s - loss: 0.7065 - accuracy: 0.8034 - val_loss: 0.7037 - val_accuracy: 0.8164\n\nEpoch 00099: val_accuracy did not improve from 0.84720\nEpoch 100/120\n351/351 - 20s - loss: 0.7034 - accuracy: 0.8041 - val_loss: 0.6825 - val_accuracy: 0.8242\n\nEpoch 00100: val_accuracy did not improve from 0.84720\nEpoch 101/120\n351/351 - 21s - loss: 0.7051 - accuracy: 0.8042 - val_loss: 0.6261 - val_accuracy: 0.8348\n\nEpoch 00101: val_accuracy did not improve from 0.84720\nEpoch 102/120\n351/351 - 21s - loss: 0.7028 - accuracy: 0.8069 - val_loss: 0.6833 - val_accuracy: 0.8222\n\nEpoch 00102: val_accuracy did not improve from 0.84720\nEpoch 103/120\n351/351 - 21s - loss: 0.7000 - accuracy: 0.8067 - val_loss: 0.6496 - val_accuracy: 0.8314\n\nEpoch 00103: val_accuracy did not improve from 0.84720\nEpoch 104/120\n351/351 - 22s - loss: 0.7020 - accuracy: 0.8038 - val_loss: 0.7296 - val_accuracy: 0.8010\n\nEpoch 00104: val_accuracy did not improve from 0.84720\nEpoch 105/120\n351/351 - 22s - loss: 0.7005 - accuracy: 0.8053 - val_loss: 0.7111 - val_accuracy: 0.8158\n\nEpoch 00105: val_accuracy did not improve from 0.84720\nEpoch 106/120\n351/351 - 21s - loss: 0.7009 - accuracy: 0.8044 - val_loss: 0.6460 - val_accuracy: 0.8366\n\nEpoch 00106: val_accuracy did not improve from 0.84720\nEpoch 107/120\n351/351 - 21s - loss: 0.6980 - accuracy: 0.8071 - val_loss: 0.6784 - val_accuracy: 0.8224\n\nEpoch 00107: val_accuracy did not improve from 0.84720\nEpoch 108/120\n351/351 - 21s - loss: 0.6951 - accuracy: 0.8082 - val_loss: 0.6811 - val_accuracy: 0.8156\n\nEpoch 00108: val_accuracy did not improve from 0.84720\nEpoch 109/120\n351/351 - 21s - loss: 0.7013 - accuracy: 0.8064 - val_loss: 0.6110 - val_accuracy: 0.8382\n\nEpoch 00109: val_accuracy did not improve from 0.84720\nEpoch 110/120\n351/351 - 22s - loss: 0.6963 - accuracy: 0.8069 - val_loss: 0.7032 - val_accuracy: 0.8152\n\nEpoch 00110: val_accuracy did not improve from 0.84720\nEpoch 111/120\n351/351 - 20s - loss: 0.6933 - accuracy: 0.8096 - val_loss: 0.8488 - val_accuracy: 0.7822\n\nEpoch 00111: val_accuracy did not improve from 0.84720\nEpoch 112/120\n351/351 - 22s - loss: 0.6976 - accuracy: 0.8063 - val_loss: 0.7300 - val_accuracy: 0.8088\n\nEpoch 00112: val_accuracy did not improve from 0.84720\nEpoch 113/120\n351/351 - 22s - loss: 0.6935 - accuracy: 0.8083 - val_loss: 0.6848 - val_accuracy: 0.8214\n\nEpoch 00113: val_accuracy did not improve from 0.84720\nEpoch 114/120\n351/351 - 21s - loss: 0.6969 - accuracy: 0.8081 - val_loss: 0.7020 - val_accuracy: 0.8138\n\nEpoch 00114: val_accuracy did not improve from 0.84720\nEpoch 115/120\n351/351 - 22s - loss: 0.6938 - accuracy: 0.8090 - val_loss: 0.6610 - val_accuracy: 0.8286\n\nEpoch 00115: val_accuracy did not improve from 0.84720\nEpoch 116/120\n351/351 - 22s - loss: 0.6945 - accuracy: 0.8083 - val_loss: 0.6894 - val_accuracy: 0.8218\n\nEpoch 00116: val_accuracy did not improve from 0.84720\nEpoch 117/120\n351/351 - 21s - loss: 0.6961 - accuracy: 0.8075 - val_loss: 0.6220 - val_accuracy: 0.8422\n\nEpoch 00117: val_accuracy did not improve from 0.84720\nEpoch 118/120\n351/351 - 21s - loss: 0.6983 - accuracy: 0.8077 - val_loss: 0.6597 - val_accuracy: 0.8244\n\nEpoch 00118: val_accuracy did not improve from 0.84720\nEpoch 119/120\n351/351 - 22s - loss: 0.6939 - accuracy: 0.8116 - val_loss: 0.6727 - val_accuracy: 0.8188\n\nEpoch 00119: val_accuracy did not improve from 0.84720\nEpoch 120/120\n351/351 - 21s - loss: 0.6922 - accuracy: 0.8094 - val_loss: 0.6858 - val_accuracy: 0.8238\n\nEpoch 00120: val_accuracy did not improve from 0.84720\n",
          "output_type": "stream"
        }
      ]
    },
    {
      "cell_type": "markdown",
      "source": [
        "## Resultados"
      ],
      "metadata": {
        "id": "AC85nL369LuR"
      }
    },
    {
      "cell_type": "code",
      "source": [
        "plt.plot(hist.history['accuracy'],label='Train')\n",
        "plt.plot(hist.history['val_accuracy'],label='Val')\n",
        "plt.legend()\n",
        "plt.show()"
      ],
      "metadata": {
        "execution": {
          "iopub.status.busy": "2021-11-11T18:28:49.733765Z",
          "iopub.execute_input": "2021-11-11T18:28:49.734092Z",
          "iopub.status.idle": "2021-11-11T18:28:49.987934Z",
          "shell.execute_reply.started": "2021-11-11T18:28:49.734056Z",
          "shell.execute_reply": "2021-11-11T18:28:49.987223Z"
        },
        "trusted": true,
        "id": "WBNJFxNy9LuS",
        "outputId": "337e7fda-bd2b-4b6e-f0d2-a55e1989ea58"
      },
      "execution_count": null,
      "outputs": [
        {
          "output_type": "display_data",
          "data": {
            "text/plain": "<Figure size 432x288 with 1 Axes>",
            "image/png": "[encoded data removed]"
          },
          "metadata": {
            "needs_background": "light"
          }
        }
      ]
    },
    {
      "cell_type": "code",
      "source": [
        "model2 = model"
      ],
      "metadata": {
        "execution": {
          "iopub.status.busy": "2021-11-11T18:28:52.820479Z",
          "iopub.execute_input": "2021-11-11T18:28:52.821188Z",
          "iopub.status.idle": "2021-11-11T18:28:52.825179Z",
          "shell.execute_reply.started": "2021-11-11T18:28:52.821153Z",
          "shell.execute_reply": "2021-11-11T18:28:52.824517Z"
        },
        "trusted": true,
        "id": "XO8GtIet9LuU"
      },
      "execution_count": null,
      "outputs": []
    },
    {
      "cell_type": "code",
      "source": [
        "model2.load_weights('./mi_mejor_modelo.hdf5')"
      ],
      "metadata": {
        "execution": {
          "iopub.status.busy": "2021-11-11T18:28:54.381998Z",
          "iopub.execute_input": "2021-11-11T18:28:54.383004Z",
          "iopub.status.idle": "2021-11-11T18:28:54.417183Z",
          "shell.execute_reply.started": "2021-11-11T18:28:54.382961Z",
          "shell.execute_reply": "2021-11-11T18:28:54.416431Z"
        },
        "trusted": true,
        "id": "LbPAsR5l9LuV"
      },
      "execution_count": null,
      "outputs": []
    },
    {
      "cell_type": "code",
      "source": [
        "model2.evaluate(x_test,y_test)"
      ],
      "metadata": {
        "execution": {
          "iopub.status.busy": "2021-11-11T18:28:56.551274Z",
          "iopub.execute_input": "2021-11-11T18:28:56.551792Z",
          "iopub.status.idle": "2021-11-11T18:28:57.752142Z",
          "shell.execute_reply.started": "2021-11-11T18:28:56.551759Z",
          "shell.execute_reply": "2021-11-11T18:28:57.751459Z"
        },
        "trusted": true,
        "id": "tKQKI1_F9LuW",
        "outputId": "0e5f4f9f-9450-4a09-de75-668433a949fc"
      },
      "execution_count": null,
      "outputs": [
        {
          "name": "stdout",
          "text": "313/313 [==============================] - 1s 3ms/step - loss: 0.6269 - accuracy: 0.8362\n",
          "output_type": "stream"
        },
        {
          "execution_count": 22,
          "output_type": "execute_result",
          "data": {
            "text/plain": "[0.6269497871398926, 0.8361999988555908]"
          },
          "metadata": {}
        }
      ]
    }
  ]
}