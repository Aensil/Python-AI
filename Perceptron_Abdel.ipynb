{
  "nbformat": 4,
  "nbformat_minor": 0,
  "metadata": {
    "colab": {
      "provenance": []
    },
    "kernelspec": {
      "name": "python3",
      "display_name": "Python 3"
    }
  },
  "cells": [
    {
      "cell_type": "markdown",
      "metadata": {
        "id": "6BTWrldbtZgw"
      },
      "source": [
        "# **El Perceptrón**"
      ]
    },
    {
      "cell_type": "code",
      "source": [
        "#PlayGROUND OF NEURAL NETWORKS\n",
        "#https://playground.tensorflow.org/"
      ],
      "metadata": {
        "id": "HeIvlIGks8IC"
      },
      "execution_count": 7,
      "outputs": []
    },
    {
      "cell_type": "markdown",
      "metadata": {
        "id": "4H0pglG2teFa"
      },
      "source": [
        "https://spin.atomicobject.com/2014/06/24/gradient-descent-linear-regression/\n",
        "\n",
        "¿Cómo ocurre la propagacion inversa por medio del gradiente descendiente? Revisar el link\n",
        "\n",
        "Sugerencia: primero leer y entender la parte de la definición general (if __name__ == \"__main__\":) y despues entrar en el modelo del perceprtron (class NeuralNetwork())\n",
        "\n",
        "Abdel - 2022"
      ]
    },
    {
      "cell_type": "code",
      "metadata": {
        "id": "2qZxAwNYtzqN"
      },
      "source": [
        "#Librerías\n",
        "from numpy import exp, array, random, dot"
      ],
      "execution_count": 8,
      "outputs": []
    },
    {
      "cell_type": "markdown",
      "metadata": {
        "id": "Ekws2kzIwhUf"
      },
      "source": [
        "###Definición del Perceptrón"
      ]
    },
    {
      "cell_type": "code",
      "metadata": {
        "id": "i9vMFnGmt8ao"
      },
      "source": [
        "#Perceptrón\n",
        "class NeuralNetwork():\n",
        "    def __init__(self):\n",
        "        # Inicializar la semilla del generador aleatorio para que siempre de los mismos numeros\n",
        "        # cada vez que el programa corra\n",
        "        random.seed(1)\n",
        "\n",
        "        # Modelo de una sola neurona, con una conexion de salida y tres de entrada.\n",
        "        # asignamos pesos aleatorios a una matriz 3 x 1, con los valores en el rango -1 a 1\n",
        "        # y media 0.\n",
        "        self.synaptic_weights = 2 * random.random((3, 1)) - 1\n",
        "\n",
        "        self.E = [] #Errors per iteration\n",
        "\n",
        "    # La función sigmoidea, que describe una función en forma de s, es la función de activación.\n",
        "    # Nosotros hacemos pasar la suma de los pesos a través de dicha función para normalizarla entre 0 y 1 (porque eso es lo que esperamos) y así poder dar un resultado\n",
        "    def __tanh(self, x):\n",
        "        return (exp(x) - exp(-x)) / (exp(x) + exp(-x))\n",
        "\n",
        "    # La derivada de la función sigmoidea\n",
        "    # es el gradiente descendiente de la función sigmoidea\n",
        "    # Indica qué tanto \"le creemos\" a los pesos resultantes, revisar link.\n",
        "    def __tanh_derivative(self, x):\n",
        "        return 1 - (x**2)\n",
        "\n",
        "    # Entrenamos a la red neuronal a través de un proceso de prueba y error\n",
        "    # Ajustamos los pesos sinápticos en cada iteración\n",
        "    def train(self, training_set_inputs, training_set_outputs, number_of_training_iterations, learning_rate):\n",
        "        for iteration in range(number_of_training_iterations):\n",
        "            # Pasamos el conjunto de entrenamiento a través de la red neuronal (una única neurona).\n",
        "            output = self.think(training_set_inputs)\n",
        "\n",
        "            # Calculamos el error (La diferencia entre el valor que esperamos obtener realmente\n",
        "            # y la salida predicha).\n",
        "            error = training_set_outputs - output\n",
        "\n",
        "            #Promediando los errores\n",
        "            f = 0\n",
        "            for i in range(len(error)):\n",
        "              f = f + float(error[i])\n",
        "\n",
        "            f = f/len(error)\n",
        "            self.E.append(f) #Añade los errores a la lista\n",
        "\n",
        "\n",
        "            #Multiplicamos el error por el learning rate\n",
        "            error = error*learning_rate\n",
        "\n",
        "            # Multiplique el error por la entrada y de nuevo por el gradiente descendiente de la función sigmoidea.\n",
        "            # Esto significa que los pesos menos confiables se ajustan más (filtrado) \n",
        "            # Esto significa que las entradas, que son cero, no causan cambio a los pesos.\n",
        "            #--------------------------\n",
        "            adjustment = dot(training_set_inputs.T, error * self.__tanh_derivative(output))\n",
        "\n",
        "            # Ajustar los pesos.\n",
        "            self.synaptic_weights += adjustment\n",
        "\n",
        "    #Proceso de aprendizaje de la red neuronal:\n",
        "    def think(self, inputs):\n",
        "        # Pasamos las entradas a través de la red neuronal (una única neurona).\n",
        "        return self.__tanh(dot(inputs, self.synaptic_weights))"
      ],
      "execution_count": 9,
      "outputs": []
    },
    {
      "cell_type": "markdown",
      "metadata": {
        "id": "SeESy5syweNb"
      },
      "source": [
        "###Clase Principal"
      ]
    },
    {
      "cell_type": "code",
      "metadata": {
        "id": "O0FY1SeMuCdO",
        "colab": {
          "base_uri": "https://localhost:8080/"
        },
        "outputId": "8a0f718c-631c-4a4c-eb53-257618c4494c"
      },
      "source": [
        "#Clase principal\n",
        "if __name__ == \"__main__\":\n",
        "\n",
        "    #Inicialice una red neuronal de una sola neurona. Quizas no sea propiamente una red... \n",
        "    neural_network = NeuralNetwork()\n",
        "\n",
        "    print (\"Pesos sinapticos iniciales generados aleatoriamente: \")\n",
        "    print (neural_network.synaptic_weights)\n",
        "\n",
        "    # El conjunto de entrenamiento. Tenemos 4 ejemplos, cada uno consistente de tres valores de entrada con su respectiva salida (una salida)\n",
        "    training_set_inputs = array([[0, 0, 1], [1, 1, 1], [1, 0, 1], [0, 1, 1],[0, 0, 0], [0, 1, 0],[1, 1, 0]])\n",
        "    training_set_outputs = array([[0, 1, 0, 0, 0, 0, 0]]).T\n",
        "  \n",
        "    #Number of epoch or Ciclys of learning\n",
        "    epoch = int(input('Number of Cycle: '))\n",
        "    learning_rate = float(input('learning rate: '))\n",
        "\n",
        "\n",
        "    # Entrene a la red neuronal usando un conjunto de entrenamiento.\n",
        "    # lo iteramos 10,000 veces, haciendo pequeños ajustes de pesos en cada iteración\n",
        "    neural_network.train(training_set_inputs, training_set_outputs, epoch, learning_rate)\n",
        "\n",
        "    print (\"Nuevos pesos sinapticos después del entremaniento: \")\n",
        "    print (neural_network.synaptic_weights)\n",
        "\n",
        "    # Pruebe la red neuronal con una situacion desconocida.\n",
        "    test = array([1, 0, 1])\n",
        "    print (\"Considerando las entradas: \")\n",
        "    print (test)\n",
        "    print (\"---------------------------\")\n",
        "    print (neural_network.think(test))         #100000 iterations - 0.25 learning rate\n",
        "\n",
        "    #NORMALIZATION\n",
        "    x = float(neural_network.think(test))\n",
        "    if x > 0.3:                                #The Hyperbolic tangent it's between -1 and 1\n",
        "      x = 1\n",
        "    else:\n",
        "      x = 0\n",
        "    print(\"---------------------------\")\n",
        "    print('The result is: ', x)\n",
        "\n",
        "    print(\"---------------------------\")\n"
      ],
      "execution_count": 10,
      "outputs": [
        {
          "output_type": "stream",
          "name": "stdout",
          "text": [
            "Pesos sinapticos iniciales generados aleatoriamente: \n",
            "[[-0.16595599]\n",
            " [ 0.44064899]\n",
            " [-0.99977125]]\n",
            "Number of Cycle: 10000\n",
            "learning rate: 0.1\n",
            "Nuevos pesos sinapticos después del entremaniento: \n",
            "[[0.2098857 ]\n",
            " [0.09248174]\n",
            " [0.09248174]]\n",
            "Considerando las entradas: \n",
            "[1 0 1]\n",
            "---------------------------\n",
            "[0.29347765]\n",
            "---------------------------\n",
            "The result is:  0\n",
            "---------------------------\n"
          ]
        }
      ]
    },
    {
      "cell_type": "code",
      "source": [
        "import matplotlib.pyplot as plt\n",
        "\n",
        "plt.plot(neural_network.E, color=\"red\")     #Columnas a graficar y el color\n",
        "plt.ylabel(\"Errors\")                              #Nombre de los datos en Y\n",
        "plt.xlabel(\"Iterations\")                         #Nombre de los datos en X\n",
        "plt.show()                                    #Imprime la grafica\n"
      ],
      "metadata": {
        "colab": {
          "base_uri": "https://localhost:8080/",
          "height": 279
        },
        "id": "KxxwLFhoYFab",
        "outputId": "7f994f3e-2349-4f45-e8c8-bf0b018b737e"
      },
      "execution_count": 11,
      "outputs": [
        {
          "output_type": "display_data",
          "data": {
            "text/plain": [
              "<Figure size 432x288 with 1 Axes>"
            ],
            "image/png": "[encoded data removed]"
          },
          "metadata": {
            "needs_background": "light"
          }
        }
      ]
    }
  ]
}