{
  "metadata": {
    "kernelspec": {
      "language": "python",
      "display_name": "Python 3",
      "name": "python3"
    },
    "language_info": {
      "name": "python",
      "version": "3.7.10",
      "mimetype": "text/x-python",
      "codemirror_mode": {
        "name": "ipython",
        "version": 3
      },
      "pygments_lexer": "ipython3",
      "nbconvert_exporter": "python",
      "file_extension": ".py"
    },
    "colab": {
      "provenance": []
    }
  },
  "nbformat_minor": 0,
  "nbformat": 4,
  "cells": [
    {
      "cell_type": "markdown",
      "source": [
        "## Importando librerías"
      ],
      "metadata": {
        "id": "zxw8sk5jJqLq"
      }
    },
    {
      "cell_type": "code",
      "source": [
        "#Done in Kaggle with Dataset\n",
        "import tensorflow as tf \n",
        "from tensorflow.keras.layers import Conv2D, MaxPooling2D, Dropout, Flatten, Dense\n",
        "from tensorflow.keras.preprocessing.image import ImageDataGenerator\n",
        "from tensorflow.keras.callbacks import ModelCheckpoint, EarlyStopping\n",
        "from  tensorflow.keras import models, optimizers, regularizers"
      ],
      "metadata": {
        "_uuid": "8f2839f25d086af736a60e9eeb907d3b93b6e0e5",
        "_cell_guid": "b1076dfc-b9ad-4769-8c92-a6c4dae69d19",
        "execution": {
          "iopub.status.busy": "2021-11-11T22:29:22.281943Z",
          "iopub.execute_input": "2021-11-11T22:29:22.282474Z",
          "iopub.status.idle": "2021-11-11T22:29:28.008393Z",
          "shell.execute_reply.started": "2021-11-11T22:29:22.282370Z",
          "shell.execute_reply": "2021-11-11T22:29:28.007382Z"
        },
        "trusted": true,
        "id": "37gcHxn0JqLu"
      },
      "execution_count": null,
      "outputs": []
    },
    {
      "cell_type": "markdown",
      "source": [
        "## Creación del modelo convolucional"
      ],
      "metadata": {
        "id": "3x8ufIe9JqLw"
      }
    },
    {
      "cell_type": "code",
      "source": [
        "model = models.Sequential()\n",
        "\n",
        "model.add(Conv2D(32, (3,3), activation= 'relu', input_shape=(150,150,3)))\n",
        "model.add(MaxPooling2D((2,2)))\n",
        "\n",
        "model.add(Conv2D(64, (3,3), activation = 'relu'))\n",
        "model.add(MaxPooling2D((2,2)))\n",
        "\n",
        "model.add(Conv2D(128, (3,3), activation = 'relu'))\n",
        "model.add(MaxPooling2D((2,2)))\n",
        "\n",
        "model.add(Conv2D(128, (3,3), activation = 'relu'))\n",
        "model.add(MaxPooling2D((2,2)))\n",
        "\n",
        "model.add(Flatten())\n",
        "model.add(Dropout(0.5))\n",
        "model.add(Dense(512, activation='relu'))\n",
        "model.add(Dense(1, activation='sigmoid'))\n",
        "\n",
        "model.summary()\n",
        "\n",
        "\n"
      ],
      "metadata": {
        "execution": {
          "iopub.status.busy": "2021-11-11T22:29:41.467894Z",
          "iopub.execute_input": "2021-11-11T22:29:41.468212Z",
          "iopub.status.idle": "2021-11-11T22:29:44.303480Z",
          "shell.execute_reply.started": "2021-11-11T22:29:41.468178Z",
          "shell.execute_reply": "2021-11-11T22:29:44.302336Z"
        },
        "trusted": true,
        "id": "C4tgi7WMJqLw",
        "outputId": "dcb4bdbb-634b-447c-a693-726c02bae73c"
      },
      "execution_count": null,
      "outputs": [
        {
          "name": "stderr",
          "text": "2021-11-11 22:29:41.552722: I tensorflow/stream_executor/cuda/cuda_gpu_executor.cc:937] successful NUMA node read from SysFS had negative value (-1), but there must be at least one NUMA node, so returning NUMA node zero\n",
          "output_type": "stream"
        },
        {
          "name": "stdout",
          "text": "Model: \"sequential\"\n_________________________________________________________________\nLayer (type)                 Output Shape              Param #   \n=================================================================\nconv2d (Conv2D)              (None, 148, 148, 32)      896       \n_________________________________________________________________\nmax_pooling2d (MaxPooling2D) (None, 74, 74, 32)        0         \n_________________________________________________________________\nconv2d_1 (Conv2D)            (None, 72, 72, 64)        18496     \n_________________________________________________________________\nmax_pooling2d_1 (MaxPooling2 (None, 36, 36, 64)        0         \n_________________________________________________________________\nconv2d_2 (Conv2D)            (None, 34, 34, 128)       73856     \n_________________________________________________________________\nmax_pooling2d_2 (MaxPooling2 (None, 17, 17, 128)       0         \n_________________________________________________________________\nconv2d_3 (Conv2D)            (None, 15, 15, 128)       147584    \n_________________________________________________________________\nmax_pooling2d_3 (MaxPooling2 (None, 7, 7, 128)         0         \n_________________________________________________________________\nflatten (Flatten)            (None, 6272)              0         \n_________________________________________________________________\ndropout (Dropout)            (None, 6272)              0         \n_________________________________________________________________\ndense (Dense)                (None, 512)               3211776   \n_________________________________________________________________\ndense_1 (Dense)              (None, 1)                 513       \n=================================================================\nTotal params: 3,453,121\nTrainable params: 3,453,121\nNon-trainable params: 0\n_________________________________________________________________\n",
          "output_type": "stream"
        },
        {
          "name": "stderr",
          "text": "2021-11-11 22:29:41.659105: I tensorflow/stream_executor/cuda/cuda_gpu_executor.cc:937] successful NUMA node read from SysFS had negative value (-1), but there must be at least one NUMA node, so returning NUMA node zero\n2021-11-11 22:29:41.660250: I tensorflow/stream_executor/cuda/cuda_gpu_executor.cc:937] successful NUMA node read from SysFS had negative value (-1), but there must be at least one NUMA node, so returning NUMA node zero\n2021-11-11 22:29:41.662706: I tensorflow/core/platform/cpu_feature_guard.cc:142] This TensorFlow binary is optimized with oneAPI Deep Neural Network Library (oneDNN) to use the following CPU instructions in performance-critical operations:  AVX2 FMA\nTo enable them in other operations, rebuild TensorFlow with the appropriate compiler flags.\n2021-11-11 22:29:41.663940: I tensorflow/stream_executor/cuda/cuda_gpu_executor.cc:937] successful NUMA node read from SysFS had negative value (-1), but there must be at least one NUMA node, so returning NUMA node zero\n2021-11-11 22:29:41.664971: I tensorflow/stream_executor/cuda/cuda_gpu_executor.cc:937] successful NUMA node read from SysFS had negative value (-1), but there must be at least one NUMA node, so returning NUMA node zero\n2021-11-11 22:29:41.665991: I tensorflow/stream_executor/cuda/cuda_gpu_executor.cc:937] successful NUMA node read from SysFS had negative value (-1), but there must be at least one NUMA node, so returning NUMA node zero\n2021-11-11 22:29:43.837447: I tensorflow/stream_executor/cuda/cuda_gpu_executor.cc:937] successful NUMA node read from SysFS had negative value (-1), but there must be at least one NUMA node, so returning NUMA node zero\n2021-11-11 22:29:43.838559: I tensorflow/stream_executor/cuda/cuda_gpu_executor.cc:937] successful NUMA node read from SysFS had negative value (-1), but there must be at least one NUMA node, so returning NUMA node zero\n2021-11-11 22:29:43.839564: I tensorflow/stream_executor/cuda/cuda_gpu_executor.cc:937] successful NUMA node read from SysFS had negative value (-1), but there must be at least one NUMA node, so returning NUMA node zero\n2021-11-11 22:29:43.840558: I tensorflow/core/common_runtime/gpu/gpu_device.cc:1510] Created device /job:localhost/replica:0/task:0/device:GPU:0 with 15403 MB memory:  -> device: 0, name: Tesla P100-PCIE-16GB, pci bus id: 0000:00:04.0, compute capability: 6.0\n",
          "output_type": "stream"
        }
      ]
    },
    {
      "cell_type": "markdown",
      "source": [
        "## Data augmentation"
      ],
      "metadata": {
        "id": "0DJHT4n0JqLy"
      }
    },
    {
      "cell_type": "code",
      "source": [
        "train_datagen = ImageDataGenerator(\n",
        "    rescale=1./255,\n",
        "    rotation_range=40,\n",
        "    width_shift_range=0.2,\n",
        "    height_shift_range=0.2,\n",
        "    shear_range=0.2,\n",
        "    zoom_range=0.2,\n",
        "    horizontal_flip=True\n",
        "    )"
      ],
      "metadata": {
        "execution": {
          "iopub.status.busy": "2021-11-11T22:30:14.782499Z",
          "iopub.execute_input": "2021-11-11T22:30:14.782854Z",
          "iopub.status.idle": "2021-11-11T22:30:14.788306Z",
          "shell.execute_reply.started": "2021-11-11T22:30:14.782819Z",
          "shell.execute_reply": "2021-11-11T22:30:14.787221Z"
        },
        "trusted": true,
        "id": "22dzTf5TJqLy"
      },
      "execution_count": null,
      "outputs": []
    },
    {
      "cell_type": "markdown",
      "source": [
        "## Reescalar los datos"
      ],
      "metadata": {
        "id": "13QZYy4YJqLz"
      }
    },
    {
      "cell_type": "code",
      "source": [
        "test_datagen = ImageDataGenerator(rescale=1./255)"
      ],
      "metadata": {
        "execution": {
          "iopub.status.busy": "2021-11-11T22:30:56.383361Z",
          "iopub.execute_input": "2021-11-11T22:30:56.383684Z",
          "iopub.status.idle": "2021-11-11T22:30:56.389332Z",
          "shell.execute_reply.started": "2021-11-11T22:30:56.383650Z",
          "shell.execute_reply": "2021-11-11T22:30:56.388020Z"
        },
        "trusted": true,
        "id": "uKE5TF67JqLz"
      },
      "execution_count": null,
      "outputs": []
    },
    {
      "cell_type": "code",
      "source": [
        "train_generator = train_datagen.flow_from_directory('../input/cnn-data-sources/cats_and_dogs/train',\n",
        "                                 target_size=(150,150),\n",
        "                                 batch_size=32,\n",
        "                                 class_mode='binary'\n",
        "                                 )\n",
        "\n",
        "validation_generator = test_datagen.flow_from_directory('../input/cnn-data-sources/cats_and_dogs/validation',\n",
        "                                 target_size=(150,150),\n",
        "                                 batch_size=32,\n",
        "                                 class_mode='binary'\n",
        "                                 )"
      ],
      "metadata": {
        "execution": {
          "iopub.status.busy": "2021-11-11T22:31:02.079780Z",
          "iopub.execute_input": "2021-11-11T22:31:02.080354Z",
          "iopub.status.idle": "2021-11-11T22:31:02.631971Z",
          "shell.execute_reply.started": "2021-11-11T22:31:02.080296Z",
          "shell.execute_reply": "2021-11-11T22:31:02.630988Z"
        },
        "trusted": true,
        "id": "wXrNvOFvJqLz",
        "outputId": "cb5ae1ae-8f05-469d-8bf1-27d4e68e655c"
      },
      "execution_count": null,
      "outputs": [
        {
          "name": "stdout",
          "text": "Found 2000 images belonging to 2 classes.\nFound 1000 images belonging to 2 classes.\n",
          "output_type": "stream"
        }
      ]
    },
    {
      "cell_type": "markdown",
      "source": [
        "## Callbacks"
      ],
      "metadata": {
        "id": "2qSlrASuJqL0"
      }
    },
    {
      "cell_type": "code",
      "source": [
        "checkpoint = ModelCheckpoint('modelo_perros_gatos.hdf5',monitor='val_accuracy', verbose= 1, save_best_only=True)"
      ],
      "metadata": {
        "execution": {
          "iopub.status.busy": "2021-11-11T22:31:08.211835Z",
          "iopub.execute_input": "2021-11-11T22:31:08.212146Z",
          "iopub.status.idle": "2021-11-11T22:31:08.217179Z",
          "shell.execute_reply.started": "2021-11-11T22:31:08.212113Z",
          "shell.execute_reply": "2021-11-11T22:31:08.216073Z"
        },
        "trusted": true,
        "id": "a3RsJodUJqL1"
      },
      "execution_count": null,
      "outputs": []
    },
    {
      "cell_type": "markdown",
      "source": [
        "## Compilando el modelo"
      ],
      "metadata": {
        "id": "KnBvXUd6JqL1"
      }
    },
    {
      "cell_type": "code",
      "source": [
        "model.compile(loss='binary_crossentropy', optimizer =optimizers.Adam(),\n",
        "             metrics=['accuracy'])"
      ],
      "metadata": {
        "execution": {
          "iopub.status.busy": "2021-11-11T22:31:12.968799Z",
          "iopub.execute_input": "2021-11-11T22:31:12.969635Z",
          "iopub.status.idle": "2021-11-11T22:31:12.987415Z",
          "shell.execute_reply.started": "2021-11-11T22:31:12.969558Z",
          "shell.execute_reply": "2021-11-11T22:31:12.986279Z"
        },
        "trusted": true,
        "id": "yudYred4JqL1"
      },
      "execution_count": null,
      "outputs": []
    },
    {
      "cell_type": "markdown",
      "source": [
        "## Entrenando el modelo"
      ],
      "metadata": {
        "id": "kut5CdpWJqL2"
      }
    },
    {
      "cell_type": "code",
      "source": [
        "hist = model.fit(train_generator, steps_per_epoch=2000//32,\n",
        "                epochs=100,\n",
        "                validation_data=validation_generator,\n",
        "                 validation_steps= 1000//32,\n",
        "                 callbacks=[checkpoint])"
      ],
      "metadata": {
        "execution": {
          "iopub.status.busy": "2021-11-11T22:31:15.439842Z",
          "iopub.execute_input": "2021-11-11T22:31:15.441069Z",
          "iopub.status.idle": "2021-11-11T23:16:08.917262Z",
          "shell.execute_reply.started": "2021-11-11T22:31:15.441015Z",
          "shell.execute_reply": "2021-11-11T23:16:08.916061Z"
        },
        "trusted": true,
        "id": "XuKLn5-xJqL2",
        "outputId": "5281a859-bbcb-4e36-d6ab-29e97319fd29"
      },
      "execution_count": null,
      "outputs": [
        {
          "name": "stderr",
          "text": "2021-11-11 22:31:15.956654: I tensorflow/compiler/mlir/mlir_graph_optimization_pass.cc:185] None of the MLIR Optimization Passes are enabled (registered 2)\n",
          "output_type": "stream"
        },
        {
          "name": "stdout",
          "text": "Epoch 1/100\n",
          "output_type": "stream"
        },
        {
          "name": "stderr",
          "text": "2021-11-11 22:31:18.393135: I tensorflow/stream_executor/cuda/cuda_dnn.cc:369] Loaded cuDNN version 8005\n",
          "output_type": "stream"
        },
        {
          "name": "stdout",
          "text": "62/62 [==============================] - 36s 458ms/step - loss: 0.7101 - accuracy: 0.4995 - val_loss: 0.6924 - val_accuracy: 0.4990\n\nEpoch 00001: val_accuracy improved from -inf to 0.49899, saving model to modelo_perros_gatos.hdf5\nEpoch 2/100\n62/62 [==============================] - 21s 340ms/step - loss: 0.6896 - accuracy: 0.5239 - val_loss: 0.6631 - val_accuracy: 0.5857\n\nEpoch 00002: val_accuracy improved from 0.49899 to 0.58569, saving model to modelo_perros_gatos.hdf5\nEpoch 3/100\n62/62 [==============================] - 20s 326ms/step - loss: 0.6836 - accuracy: 0.5559 - val_loss: 0.6818 - val_accuracy: 0.5474\n\nEpoch 00003: val_accuracy did not improve from 0.58569\nEpoch 4/100\n62/62 [==============================] - 21s 334ms/step - loss: 0.6870 - accuracy: 0.5437 - val_loss: 0.6937 - val_accuracy: 0.5010\n\nEpoch 00004: val_accuracy did not improve from 0.58569\nEpoch 5/100\n62/62 [==============================] - 21s 337ms/step - loss: 0.6940 - accuracy: 0.4848 - val_loss: 0.6933 - val_accuracy: 0.4990\n\nEpoch 00005: val_accuracy did not improve from 0.58569\nEpoch 6/100\n62/62 [==============================] - 20s 324ms/step - loss: 0.6933 - accuracy: 0.5132 - val_loss: 0.6927 - val_accuracy: 0.4990\n\nEpoch 00006: val_accuracy did not improve from 0.58569\nEpoch 7/100\n62/62 [==============================] - 20s 330ms/step - loss: 0.6927 - accuracy: 0.5020 - val_loss: 0.6887 - val_accuracy: 0.5806\n\nEpoch 00007: val_accuracy did not improve from 0.58569\nEpoch 8/100\n62/62 [==============================] - 21s 339ms/step - loss: 0.6899 - accuracy: 0.5305 - val_loss: 0.6915 - val_accuracy: 0.5222\n\nEpoch 00008: val_accuracy did not improve from 0.58569\nEpoch 9/100\n62/62 [==============================] - 20s 326ms/step - loss: 0.6824 - accuracy: 0.5412 - val_loss: 0.6600 - val_accuracy: 0.5988\n\nEpoch 00009: val_accuracy improved from 0.58569 to 0.59879, saving model to modelo_perros_gatos.hdf5\nEpoch 10/100\n62/62 [==============================] - 21s 336ms/step - loss: 0.6843 - accuracy: 0.5457 - val_loss: 0.6869 - val_accuracy: 0.5373\n\nEpoch 00010: val_accuracy did not improve from 0.59879\nEpoch 11/100\n62/62 [==============================] - 20s 326ms/step - loss: 0.6716 - accuracy: 0.5894 - val_loss: 0.6394 - val_accuracy: 0.6310\n\nEpoch 00011: val_accuracy improved from 0.59879 to 0.63105, saving model to modelo_perros_gatos.hdf5\nEpoch 12/100\n62/62 [==============================] - 21s 333ms/step - loss: 0.6705 - accuracy: 0.5869 - val_loss: 0.6476 - val_accuracy: 0.6129\n\nEpoch 00012: val_accuracy did not improve from 0.63105\nEpoch 13/100\n62/62 [==============================] - 21s 337ms/step - loss: 0.6426 - accuracy: 0.6331 - val_loss: 0.6171 - val_accuracy: 0.6552\n\nEpoch 00013: val_accuracy improved from 0.63105 to 0.65524, saving model to modelo_perros_gatos.hdf5\nEpoch 14/100\n62/62 [==============================] - 20s 327ms/step - loss: 0.6373 - accuracy: 0.6331 - val_loss: 0.6881 - val_accuracy: 0.6079\n\nEpoch 00014: val_accuracy did not improve from 0.65524\nEpoch 15/100\n62/62 [==============================] - 20s 329ms/step - loss: 0.6505 - accuracy: 0.6230 - val_loss: 0.6753 - val_accuracy: 0.5675\n\nEpoch 00015: val_accuracy did not improve from 0.65524\nEpoch 16/100\n62/62 [==============================] - 20s 325ms/step - loss: 0.6484 - accuracy: 0.6047 - val_loss: 0.6327 - val_accuracy: 0.6351\n\nEpoch 00016: val_accuracy did not improve from 0.65524\nEpoch 17/100\n62/62 [==============================] - 21s 339ms/step - loss: 0.6384 - accuracy: 0.6448 - val_loss: 0.6477 - val_accuracy: 0.5675\n\nEpoch 00017: val_accuracy did not improve from 0.65524\nEpoch 18/100\n62/62 [==============================] - 21s 333ms/step - loss: 0.6339 - accuracy: 0.6316 - val_loss: 0.6044 - val_accuracy: 0.6683\n\nEpoch 00018: val_accuracy improved from 0.65524 to 0.66835, saving model to modelo_perros_gatos.hdf5\nEpoch 19/100\n62/62 [==============================] - 21s 333ms/step - loss: 0.6188 - accuracy: 0.6535 - val_loss: 0.6032 - val_accuracy: 0.6744\n\nEpoch 00019: val_accuracy improved from 0.66835 to 0.67440, saving model to modelo_perros_gatos.hdf5\nEpoch 20/100\n62/62 [==============================] - 20s 319ms/step - loss: 0.6287 - accuracy: 0.6474 - val_loss: 0.6142 - val_accuracy: 0.6542\n\nEpoch 00020: val_accuracy did not improve from 0.67440\nEpoch 21/100\n62/62 [==============================] - 21s 334ms/step - loss: 0.6158 - accuracy: 0.6626 - val_loss: 0.6117 - val_accuracy: 0.6613\n\nEpoch 00021: val_accuracy did not improve from 0.67440\nEpoch 22/100\n62/62 [==============================] - 20s 331ms/step - loss: 0.6124 - accuracy: 0.6570 - val_loss: 0.5769 - val_accuracy: 0.7046\n\nEpoch 00022: val_accuracy improved from 0.67440 to 0.70464, saving model to modelo_perros_gatos.hdf5\nEpoch 23/100\n62/62 [==============================] - 21s 334ms/step - loss: 0.6044 - accuracy: 0.6692 - val_loss: 0.5877 - val_accuracy: 0.6946\n\nEpoch 00023: val_accuracy did not improve from 0.70464\nEpoch 24/100\n62/62 [==============================] - 21s 333ms/step - loss: 0.6116 - accuracy: 0.6631 - val_loss: 0.5732 - val_accuracy: 0.7036\n\nEpoch 00024: val_accuracy did not improve from 0.70464\nEpoch 25/100\n62/62 [==============================] - 22s 344ms/step - loss: 0.5778 - accuracy: 0.7017 - val_loss: 0.5721 - val_accuracy: 0.6925\n\nEpoch 00025: val_accuracy did not improve from 0.70464\nEpoch 26/100\n62/62 [==============================] - 21s 334ms/step - loss: 0.6056 - accuracy: 0.6606 - val_loss: 0.5710 - val_accuracy: 0.6996\n\nEpoch 00026: val_accuracy did not improve from 0.70464\nEpoch 27/100\n62/62 [==============================] - 20s 325ms/step - loss: 0.5769 - accuracy: 0.7007 - val_loss: 0.5781 - val_accuracy: 0.7097\n\nEpoch 00027: val_accuracy improved from 0.70464 to 0.70968, saving model to modelo_perros_gatos.hdf5\nEpoch 28/100\n62/62 [==============================] - 21s 334ms/step - loss: 0.5815 - accuracy: 0.6997 - val_loss: 0.5517 - val_accuracy: 0.7177\n\nEpoch 00028: val_accuracy improved from 0.70968 to 0.71774, saving model to modelo_perros_gatos.hdf5\nEpoch 29/100\n62/62 [==============================] - 20s 326ms/step - loss: 0.5730 - accuracy: 0.7093 - val_loss: 0.5519 - val_accuracy: 0.7046\n\nEpoch 00029: val_accuracy did not improve from 0.71774\nEpoch 30/100\n62/62 [==============================] - 21s 332ms/step - loss: 0.5817 - accuracy: 0.6966 - val_loss: 0.5682 - val_accuracy: 0.7157\n\nEpoch 00030: val_accuracy did not improve from 0.71774\nEpoch 31/100\n62/62 [==============================] - 20s 322ms/step - loss: 0.5681 - accuracy: 0.7139 - val_loss: 0.5394 - val_accuracy: 0.7258\n\nEpoch 00031: val_accuracy improved from 0.71774 to 0.72581, saving model to modelo_perros_gatos.hdf5\nEpoch 32/100\n62/62 [==============================] - 21s 333ms/step - loss: 0.5573 - accuracy: 0.7078 - val_loss: 0.5521 - val_accuracy: 0.7137\n\nEpoch 00032: val_accuracy did not improve from 0.72581\nEpoch 33/100\n62/62 [==============================] - 20s 324ms/step - loss: 0.5729 - accuracy: 0.7007 - val_loss: 0.5355 - val_accuracy: 0.7268\n\nEpoch 00033: val_accuracy improved from 0.72581 to 0.72681, saving model to modelo_perros_gatos.hdf5\nEpoch 34/100\n62/62 [==============================] - 21s 335ms/step - loss: 0.5452 - accuracy: 0.7231 - val_loss: 0.5351 - val_accuracy: 0.7258\n\nEpoch 00034: val_accuracy did not improve from 0.72681\nEpoch 35/100\n62/62 [==============================] - 20s 320ms/step - loss: 0.5392 - accuracy: 0.7459 - val_loss: 0.5477 - val_accuracy: 0.7137\n\nEpoch 00035: val_accuracy did not improve from 0.72681\nEpoch 36/100\n62/62 [==============================] - 21s 338ms/step - loss: 0.5442 - accuracy: 0.7261 - val_loss: 0.5273 - val_accuracy: 0.7329\n\nEpoch 00036: val_accuracy improved from 0.72681 to 0.73286, saving model to modelo_perros_gatos.hdf5\nEpoch 37/100\n62/62 [==============================] - 20s 324ms/step - loss: 0.5416 - accuracy: 0.7322 - val_loss: 0.5382 - val_accuracy: 0.7399\n\nEpoch 00037: val_accuracy improved from 0.73286 to 0.73992, saving model to modelo_perros_gatos.hdf5\nEpoch 38/100\n62/62 [==============================] - 21s 336ms/step - loss: 0.5275 - accuracy: 0.7393 - val_loss: 0.5167 - val_accuracy: 0.7460\n\nEpoch 00038: val_accuracy improved from 0.73992 to 0.74597, saving model to modelo_perros_gatos.hdf5\nEpoch 39/100\n62/62 [==============================] - 21s 338ms/step - loss: 0.5362 - accuracy: 0.7322 - val_loss: 0.5240 - val_accuracy: 0.7440\n\nEpoch 00039: val_accuracy did not improve from 0.74597\nEpoch 40/100\n62/62 [==============================] - 21s 336ms/step - loss: 0.5342 - accuracy: 0.7246 - val_loss: 0.5354 - val_accuracy: 0.7399\n\nEpoch 00040: val_accuracy did not improve from 0.74597\nEpoch 41/100\n62/62 [==============================] - 20s 331ms/step - loss: 0.5261 - accuracy: 0.7358 - val_loss: 0.4907 - val_accuracy: 0.7540\n\nEpoch 00041: val_accuracy improved from 0.74597 to 0.75403, saving model to modelo_perros_gatos.hdf5\nEpoch 42/100\n62/62 [==============================] - 21s 340ms/step - loss: 0.5147 - accuracy: 0.7551 - val_loss: 0.5266 - val_accuracy: 0.7278\n\nEpoch 00042: val_accuracy did not improve from 0.75403\nEpoch 43/100\n62/62 [==============================] - 21s 336ms/step - loss: 0.5256 - accuracy: 0.7434 - val_loss: 0.5605 - val_accuracy: 0.7198\n\nEpoch 00043: val_accuracy did not improve from 0.75403\nEpoch 44/100\n62/62 [==============================] - 21s 333ms/step - loss: 0.4933 - accuracy: 0.7617 - val_loss: 0.4965 - val_accuracy: 0.7460\n\nEpoch 00044: val_accuracy did not improve from 0.75403\nEpoch 45/100\n62/62 [==============================] - 20s 322ms/step - loss: 0.5008 - accuracy: 0.7612 - val_loss: 0.5072 - val_accuracy: 0.7429\n\nEpoch 00045: val_accuracy did not improve from 0.75403\nEpoch 46/100\n62/62 [==============================] - 21s 334ms/step - loss: 0.4980 - accuracy: 0.7602 - val_loss: 0.5060 - val_accuracy: 0.7550\n\nEpoch 00046: val_accuracy improved from 0.75403 to 0.75504, saving model to modelo_perros_gatos.hdf5\nEpoch 47/100\n62/62 [==============================] - 21s 325ms/step - loss: 0.4823 - accuracy: 0.7658 - val_loss: 0.5192 - val_accuracy: 0.7530\n\nEpoch 00047: val_accuracy did not improve from 0.75504\nEpoch 48/100\n62/62 [==============================] - 21s 333ms/step - loss: 0.4953 - accuracy: 0.7612 - val_loss: 0.4970 - val_accuracy: 0.7581\n\nEpoch 00048: val_accuracy improved from 0.75504 to 0.75806, saving model to modelo_perros_gatos.hdf5\nEpoch 49/100\n62/62 [==============================] - 21s 333ms/step - loss: 0.4830 - accuracy: 0.7627 - val_loss: 0.5041 - val_accuracy: 0.7581\n\nEpoch 00049: val_accuracy did not improve from 0.75806\nEpoch 50/100\n62/62 [==============================] - 20s 324ms/step - loss: 0.4845 - accuracy: 0.7718 - val_loss: 0.5479 - val_accuracy: 0.7147\n\nEpoch 00050: val_accuracy did not improve from 0.75806\nEpoch 51/100\n62/62 [==============================] - 21s 332ms/step - loss: 0.4880 - accuracy: 0.7556 - val_loss: 0.4832 - val_accuracy: 0.7772\n\nEpoch 00051: val_accuracy improved from 0.75806 to 0.77722, saving model to modelo_perros_gatos.hdf5\nEpoch 52/100\n62/62 [==============================] - 20s 326ms/step - loss: 0.4731 - accuracy: 0.7729 - val_loss: 0.4941 - val_accuracy: 0.7621\n\nEpoch 00052: val_accuracy did not improve from 0.77722\nEpoch 53/100\n62/62 [==============================] - 21s 342ms/step - loss: 0.4635 - accuracy: 0.7790 - val_loss: 0.4705 - val_accuracy: 0.7752\n\nEpoch 00053: val_accuracy did not improve from 0.77722\nEpoch 54/100\n62/62 [==============================] - 21s 331ms/step - loss: 0.4663 - accuracy: 0.7866 - val_loss: 0.5084 - val_accuracy: 0.7833\n\nEpoch 00054: val_accuracy improved from 0.77722 to 0.78327, saving model to modelo_perros_gatos.hdf5\nEpoch 55/100\n62/62 [==============================] - 20s 316ms/step - loss: 0.4562 - accuracy: 0.7907 - val_loss: 0.4858 - val_accuracy: 0.7681\n\nEpoch 00055: val_accuracy did not improve from 0.78327\nEpoch 56/100\n62/62 [==============================] - 21s 331ms/step - loss: 0.4663 - accuracy: 0.7774 - val_loss: 0.4955 - val_accuracy: 0.7671\n\nEpoch 00056: val_accuracy did not improve from 0.78327\nEpoch 57/100\n62/62 [==============================] - 20s 325ms/step - loss: 0.4719 - accuracy: 0.7759 - val_loss: 0.4911 - val_accuracy: 0.7621\n\nEpoch 00057: val_accuracy did not improve from 0.78327\nEpoch 58/100\n62/62 [==============================] - 21s 338ms/step - loss: 0.4626 - accuracy: 0.7779 - val_loss: 0.4635 - val_accuracy: 0.7792\n\nEpoch 00058: val_accuracy did not improve from 0.78327\nEpoch 59/100\n62/62 [==============================] - 20s 326ms/step - loss: 0.4454 - accuracy: 0.7891 - val_loss: 0.4669 - val_accuracy: 0.7772\n\nEpoch 00059: val_accuracy did not improve from 0.78327\nEpoch 60/100\n62/62 [==============================] - 21s 331ms/step - loss: 0.4608 - accuracy: 0.7790 - val_loss: 0.4586 - val_accuracy: 0.7802\n\nEpoch 00060: val_accuracy did not improve from 0.78327\nEpoch 61/100\n62/62 [==============================] - 21s 340ms/step - loss: 0.4328 - accuracy: 0.8095 - val_loss: 0.4808 - val_accuracy: 0.7671\n\nEpoch 00061: val_accuracy did not improve from 0.78327\nEpoch 62/100\n62/62 [==============================] - 21s 335ms/step - loss: 0.4272 - accuracy: 0.7978 - val_loss: 0.5115 - val_accuracy: 0.7510\n\nEpoch 00062: val_accuracy did not improve from 0.78327\nEpoch 63/100\n62/62 [==============================] - 20s 330ms/step - loss: 0.4314 - accuracy: 0.8049 - val_loss: 0.4588 - val_accuracy: 0.7833\n\nEpoch 00063: val_accuracy did not improve from 0.78327\nEpoch 64/100\n62/62 [==============================] - 21s 337ms/step - loss: 0.4244 - accuracy: 0.8028 - val_loss: 0.4957 - val_accuracy: 0.7742\n\nEpoch 00064: val_accuracy did not improve from 0.78327\nEpoch 65/100\n62/62 [==============================] - 21s 332ms/step - loss: 0.4246 - accuracy: 0.8023 - val_loss: 0.4862 - val_accuracy: 0.7722\n\nEpoch 00065: val_accuracy did not improve from 0.78327\nEpoch 66/100\n62/62 [==============================] - 20s 331ms/step - loss: 0.4353 - accuracy: 0.8034 - val_loss: 0.4776 - val_accuracy: 0.7903\n\nEpoch 00066: val_accuracy improved from 0.78327 to 0.79032, saving model to modelo_perros_gatos.hdf5\nEpoch 67/100\n62/62 [==============================] - 20s 325ms/step - loss: 0.4000 - accuracy: 0.8242 - val_loss: 0.4565 - val_accuracy: 0.7883\n\nEpoch 00067: val_accuracy did not improve from 0.79032\nEpoch 68/100\n62/62 [==============================] - 21s 332ms/step - loss: 0.4284 - accuracy: 0.8125 - val_loss: 0.5018 - val_accuracy: 0.7681\n\nEpoch 00068: val_accuracy did not improve from 0.79032\nEpoch 69/100\n62/62 [==============================] - 20s 331ms/step - loss: 0.4055 - accuracy: 0.8084 - val_loss: 0.4915 - val_accuracy: 0.7782\n\nEpoch 00069: val_accuracy did not improve from 0.79032\nEpoch 70/100\n62/62 [==============================] - 23s 370ms/step - loss: 0.3955 - accuracy: 0.8186 - val_loss: 0.4579 - val_accuracy: 0.7923\n\nEpoch 00070: val_accuracy improved from 0.79032 to 0.79234, saving model to modelo_perros_gatos.hdf5\nEpoch 71/100\n62/62 [==============================] - 21s 339ms/step - loss: 0.4089 - accuracy: 0.8089 - val_loss: 0.4954 - val_accuracy: 0.7762\n\nEpoch 00071: val_accuracy did not improve from 0.79234\nEpoch 72/100\n62/62 [==============================] - 22s 361ms/step - loss: 0.4067 - accuracy: 0.8130 - val_loss: 0.4907 - val_accuracy: 0.7792\n\nEpoch 00072: val_accuracy did not improve from 0.79234\nEpoch 73/100\n62/62 [==============================] - 20s 326ms/step - loss: 0.4053 - accuracy: 0.8105 - val_loss: 0.5346 - val_accuracy: 0.7440\n\nEpoch 00073: val_accuracy did not improve from 0.79234\nEpoch 74/100\n62/62 [==============================] - 21s 335ms/step - loss: 0.4114 - accuracy: 0.7998 - val_loss: 0.4659 - val_accuracy: 0.7883\n\nEpoch 00074: val_accuracy did not improve from 0.79234\nEpoch 75/100\n62/62 [==============================] - 21s 335ms/step - loss: 0.4080 - accuracy: 0.8206 - val_loss: 0.4671 - val_accuracy: 0.7772\n\nEpoch 00075: val_accuracy did not improve from 0.79234\nEpoch 76/100\n62/62 [==============================] - 23s 373ms/step - loss: 0.3795 - accuracy: 0.8313 - val_loss: 0.4560 - val_accuracy: 0.7964\n\nEpoch 00076: val_accuracy improved from 0.79234 to 0.79637, saving model to modelo_perros_gatos.hdf5\nEpoch 77/100\n62/62 [==============================] - 22s 354ms/step - loss: 0.3828 - accuracy: 0.8272 - val_loss: 0.4263 - val_accuracy: 0.8044\n\nEpoch 00077: val_accuracy improved from 0.79637 to 0.80444, saving model to modelo_perros_gatos.hdf5\nEpoch 78/100\n62/62 [==============================] - 21s 336ms/step - loss: 0.3816 - accuracy: 0.8318 - val_loss: 0.4227 - val_accuracy: 0.8075\n\nEpoch 00078: val_accuracy improved from 0.80444 to 0.80746, saving model to modelo_perros_gatos.hdf5\nEpoch 79/100\n62/62 [==============================] - 20s 323ms/step - loss: 0.3559 - accuracy: 0.8399 - val_loss: 0.5212 - val_accuracy: 0.7692\n\nEpoch 00079: val_accuracy did not improve from 0.80746\nEpoch 80/100\n62/62 [==============================] - 21s 343ms/step - loss: 0.3750 - accuracy: 0.8252 - val_loss: 0.4577 - val_accuracy: 0.7984\n\nEpoch 00080: val_accuracy did not improve from 0.80746\nEpoch 81/100\n62/62 [==============================] - 20s 328ms/step - loss: 0.3808 - accuracy: 0.8333 - val_loss: 0.4462 - val_accuracy: 0.8105\n\nEpoch 00081: val_accuracy improved from 0.80746 to 0.81048, saving model to modelo_perros_gatos.hdf5\nEpoch 82/100\n62/62 [==============================] - 20s 322ms/step - loss: 0.3710 - accuracy: 0.8384 - val_loss: 0.4556 - val_accuracy: 0.8175\n\nEpoch 00082: val_accuracy improved from 0.81048 to 0.81754, saving model to modelo_perros_gatos.hdf5\nEpoch 83/100\n62/62 [==============================] - 21s 337ms/step - loss: 0.3722 - accuracy: 0.8318 - val_loss: 0.4556 - val_accuracy: 0.8085\n\nEpoch 00083: val_accuracy did not improve from 0.81754\nEpoch 84/100\n62/62 [==============================] - 21s 342ms/step - loss: 0.3871 - accuracy: 0.8216 - val_loss: 0.4222 - val_accuracy: 0.8085\n\nEpoch 00084: val_accuracy did not improve from 0.81754\nEpoch 85/100\n62/62 [==============================] - 20s 322ms/step - loss: 0.3731 - accuracy: 0.8394 - val_loss: 0.4487 - val_accuracy: 0.8115\n\nEpoch 00085: val_accuracy did not improve from 0.81754\nEpoch 86/100\n62/62 [==============================] - 21s 335ms/step - loss: 0.3529 - accuracy: 0.8455 - val_loss: 0.4176 - val_accuracy: 0.8095\n\nEpoch 00086: val_accuracy did not improve from 0.81754\nEpoch 87/100\n62/62 [==============================] - 21s 331ms/step - loss: 0.3639 - accuracy: 0.8237 - val_loss: 0.4783 - val_accuracy: 0.7984\n\nEpoch 00087: val_accuracy did not improve from 0.81754\nEpoch 88/100\n62/62 [==============================] - 20s 324ms/step - loss: 0.3586 - accuracy: 0.8389 - val_loss: 0.5418 - val_accuracy: 0.7692\n\nEpoch 00088: val_accuracy did not improve from 0.81754\nEpoch 89/100\n62/62 [==============================] - 21s 333ms/step - loss: 0.3436 - accuracy: 0.8567 - val_loss: 0.4651 - val_accuracy: 0.8135\n\nEpoch 00089: val_accuracy did not improve from 0.81754\nEpoch 90/100\n62/62 [==============================] - 20s 325ms/step - loss: 0.3551 - accuracy: 0.8328 - val_loss: 0.4919 - val_accuracy: 0.7823\n\nEpoch 00090: val_accuracy did not improve from 0.81754\nEpoch 91/100\n62/62 [==============================] - 21s 332ms/step - loss: 0.3583 - accuracy: 0.8369 - val_loss: 0.3947 - val_accuracy: 0.8266\n\nEpoch 00091: val_accuracy improved from 0.81754 to 0.82661, saving model to modelo_perros_gatos.hdf5\nEpoch 92/100\n62/62 [==============================] - 20s 318ms/step - loss: 0.3445 - accuracy: 0.8496 - val_loss: 0.4346 - val_accuracy: 0.8085\n\nEpoch 00092: val_accuracy did not improve from 0.82661\nEpoch 93/100\n62/62 [==============================] - 21s 336ms/step - loss: 0.3300 - accuracy: 0.8567 - val_loss: 0.4276 - val_accuracy: 0.8155\n\nEpoch 00093: val_accuracy did not improve from 0.82661\nEpoch 94/100\n62/62 [==============================] - 20s 325ms/step - loss: 0.3129 - accuracy: 0.8598 - val_loss: 0.4386 - val_accuracy: 0.8226\n\nEpoch 00094: val_accuracy did not improve from 0.82661\nEpoch 95/100\n62/62 [==============================] - 21s 339ms/step - loss: 0.3618 - accuracy: 0.8425 - val_loss: 0.3893 - val_accuracy: 0.8296\n\nEpoch 00095: val_accuracy improved from 0.82661 to 0.82964, saving model to modelo_perros_gatos.hdf5\nEpoch 96/100\n62/62 [==============================] - 21s 334ms/step - loss: 0.3188 - accuracy: 0.8557 - val_loss: 0.4055 - val_accuracy: 0.8256\n\nEpoch 00096: val_accuracy did not improve from 0.82964\nEpoch 97/100\n62/62 [==============================] - 20s 324ms/step - loss: 0.3203 - accuracy: 0.8633 - val_loss: 0.4709 - val_accuracy: 0.8044\n\nEpoch 00097: val_accuracy did not improve from 0.82964\nEpoch 98/100\n62/62 [==============================] - 21s 333ms/step - loss: 0.3167 - accuracy: 0.8659 - val_loss: 0.4743 - val_accuracy: 0.8135\n\nEpoch 00098: val_accuracy did not improve from 0.82964\nEpoch 99/100\n62/62 [==============================] - 20s 318ms/step - loss: 0.3327 - accuracy: 0.8557 - val_loss: 0.4044 - val_accuracy: 0.8256\n\nEpoch 00099: val_accuracy did not improve from 0.82964\nEpoch 100/100\n62/62 [==============================] - 21s 335ms/step - loss: 0.3177 - accuracy: 0.8608 - val_loss: 0.4337 - val_accuracy: 0.8155\n\nEpoch 00100: val_accuracy did not improve from 0.82964\n",
          "output_type": "stream"
        }
      ]
    },
    {
      "cell_type": "markdown",
      "source": [
        "## Resultados"
      ],
      "metadata": {
        "id": "QALCly_6JqL2"
      }
    },
    {
      "cell_type": "code",
      "source": [
        "import matplotlib.pyplot as plt"
      ],
      "metadata": {
        "execution": {
          "iopub.status.busy": "2021-11-11T23:16:55.607807Z",
          "iopub.execute_input": "2021-11-11T23:16:55.610789Z",
          "iopub.status.idle": "2021-11-11T23:16:55.620861Z",
          "shell.execute_reply.started": "2021-11-11T23:16:55.610726Z",
          "shell.execute_reply": "2021-11-11T23:16:55.619542Z"
        },
        "trusted": true,
        "id": "U_G_PafLJqL3"
      },
      "execution_count": null,
      "outputs": []
    },
    {
      "cell_type": "code",
      "source": [
        "plt.plot(hist.history['accuracy'], label = 'Train')\n",
        "plt.plot(hist.history['val_accuracy'], label = 'Val')\n",
        "plt.legend()\n",
        "plt.show()"
      ],
      "metadata": {
        "execution": {
          "iopub.status.busy": "2021-11-11T23:17:34.902109Z",
          "iopub.execute_input": "2021-11-11T23:17:34.902490Z",
          "iopub.status.idle": "2021-11-11T23:17:35.189173Z",
          "shell.execute_reply.started": "2021-11-11T23:17:34.902422Z",
          "shell.execute_reply": "2021-11-11T23:17:35.188183Z"
        },
        "trusted": true,
        "id": "IJOGsKx-JqL3",
        "outputId": "a4f5b3c2-bf42-4853-a83d-4e139266475c"
      },
      "execution_count": null,
      "outputs": [
        {
          "output_type": "display_data",
          "data": {
            "text/plain": "<Figure size 432x288 with 1 Axes>",
            "image/png": "[encoded data removed]"
          },
          "metadata": {
            "needs_background": "light"
          }
        }
      ]
    },
    {
      "cell_type": "code",
      "source": [
        "test_generator = test_datagen.flow_from_directory('../input/cnn-data-sources/cats_and_dogs/test',\n",
        "                                 target_size=(150,150),\n",
        "                                 batch_size=32,\n",
        "                                 class_mode='binary'\n",
        "                                 )"
      ],
      "metadata": {
        "execution": {
          "iopub.status.busy": "2021-11-11T23:17:37.357380Z",
          "iopub.execute_input": "2021-11-11T23:17:37.358025Z",
          "iopub.status.idle": "2021-11-11T23:17:37.681644Z",
          "shell.execute_reply.started": "2021-11-11T23:17:37.357987Z",
          "shell.execute_reply": "2021-11-11T23:17:37.680336Z"
        },
        "trusted": true,
        "id": "Dwlw5OUKJqL3",
        "outputId": "916d5fbe-9713-451a-81ac-04282e88e81a"
      },
      "execution_count": null,
      "outputs": [
        {
          "name": "stdout",
          "text": "Found 1000 images belonging to 2 classes.\n",
          "output_type": "stream"
        }
      ]
    },
    {
      "cell_type": "code",
      "source": [
        "model2 = model "
      ],
      "metadata": {
        "execution": {
          "iopub.status.busy": "2021-11-11T23:17:46.027176Z",
          "iopub.execute_input": "2021-11-11T23:17:46.027482Z",
          "iopub.status.idle": "2021-11-11T23:17:46.032653Z",
          "shell.execute_reply.started": "2021-11-11T23:17:46.027449Z",
          "shell.execute_reply": "2021-11-11T23:17:46.031218Z"
        },
        "trusted": true,
        "id": "I46Zi_I0JqL4"
      },
      "execution_count": null,
      "outputs": []
    },
    {
      "cell_type": "code",
      "source": [
        "model2.load_weights('./modelo_perros_gatos.hdf5')"
      ],
      "metadata": {
        "execution": {
          "iopub.status.busy": "2021-11-11T23:17:50.007641Z",
          "iopub.execute_input": "2021-11-11T23:17:50.007943Z",
          "iopub.status.idle": "2021-11-11T23:17:50.045525Z",
          "shell.execute_reply.started": "2021-11-11T23:17:50.007906Z",
          "shell.execute_reply": "2021-11-11T23:17:50.044281Z"
        },
        "trusted": true,
        "id": "e2cIcnvAJqL4"
      },
      "execution_count": null,
      "outputs": []
    },
    {
      "cell_type": "code",
      "source": [
        "model2.evaluate(test_generator)"
      ],
      "metadata": {
        "execution": {
          "iopub.status.busy": "2021-11-11T23:18:22.531340Z",
          "iopub.execute_input": "2021-11-11T23:18:22.532203Z",
          "iopub.status.idle": "2021-11-11T23:18:33.026379Z",
          "shell.execute_reply.started": "2021-11-11T23:18:22.532160Z",
          "shell.execute_reply": "2021-11-11T23:18:33.025404Z"
        },
        "trusted": true,
        "id": "vMmr2EWCJqL4",
        "outputId": "df9dad6a-031b-4f98-9747-82b054545f52"
      },
      "execution_count": null,
      "outputs": [
        {
          "name": "stdout",
          "text": "32/32 [==============================] - 6s 192ms/step - loss: 0.4181 - accuracy: 0.8210\n",
          "output_type": "stream"
        },
        {
          "execution_count": 14,
          "output_type": "execute_result",
          "data": {
            "text/plain": "[0.4181146025657654, 0.8209999799728394]"
          },
          "metadata": {}
        }
      ]
    }
  ]
}